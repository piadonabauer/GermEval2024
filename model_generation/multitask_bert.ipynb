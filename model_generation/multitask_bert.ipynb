{
 "cells": [
  {
   "cell_type": "markdown",
   "metadata": {},
   "source": [
    "# Multi-Task Transformer\n",
    "\n",
    "In this notebook, a multi-task transformer based on the pre-trained [BERT](https://huggingface.co/google-bert/bert-base-german-cased) model is constructed, where each task corresponds to one annotator. For each data point, the CLS token is extracted and scored using a tf-idf dictionary created from the dataframe.\n",
    "\n",
    "Following the model creation, fine-tuning is performed on the augmented dataset. During fine-tuning, various hyperparameter configurations and feature selections are experimented with.\n",
    "\n",
    "The training process is conducted in two stages: initially, a binary classification determines whether a data point exhibits sexism, followed by a more detailed classification of the level of sexism for each predicted instance."
   ]
  },
  {
   "cell_type": "code",
   "execution_count": 1,
   "metadata": {},
   "outputs": [
    {
     "name": "stdout",
     "output_type": "stream",
     "text": [
      "\u001b[38;5;2m✔ Download and installation successful\u001b[0m\n",
      "You can now load the package via spacy.load('de_core_news_sm')\n"
     ]
    }
   ],
   "source": [
    "!pip install transformers -q\n",
    "!pip install torch -q\n",
    "!pip install textblob -q\n",
    "!pip install spacy -q\n",
    "!pip install transformers[torch] -q\n",
    "!pip install accelerate -U -q\n",
    "!python -m spacy download de_core_news_sm -q\n",
    "!pip install germansentiment -q\n",
    "!pip install matplotlib -q"
   ]
  },
  {
   "cell_type": "code",
   "execution_count": 2,
   "metadata": {
    "id": "5UtEvkqwlhWa",
    "tags": []
   },
   "outputs": [],
   "source": [
    "import numpy as np\n",
    "import pandas as pd\n",
    "import torch\n",
    "import torch.nn as nn\n",
    "import torch.nn.functional as F\n",
    "from torch.optim.lr_scheduler import StepLR\n",
    "import spacy\n",
    "import pandas as pd\n",
    "import torch.optim as optim\n",
    "import matplotlib.pyplot as plt\n",
    "\n",
    "from torch.optim import SGD, Adam, AdamW\n",
    "from transformers import BertTokenizer, BertModel, BertConfig, AutoModel, pipeline, get_linear_schedule_with_warmup\n",
    "from transformers import TrainingArguments, Trainer, AutoTokenizer, AutoModelForSequenceClassification, AutoModelForTokenClassification\n",
    "from sklearn.preprocessing import LabelEncoder\n",
    "from sklearn.model_selection import train_test_split, KFold\n",
    "from sklearn.metrics import accuracy_score, f1_score, precision_score, recall_score, precision_recall_fscore_support, confusion_matrix, ConfusionMatrixDisplay\n",
    "from sklearn.feature_extraction.text import TfidfVectorizer\n",
    "from sklearn.utils import resample\n",
    "from torch.utils.data import DataLoader, Dataset\n",
    "from textblob import TextBlob\n",
    "from spacy.lang.de.examples import sentences\n",
    "from tqdm import tqdm\n",
    "from germansentiment import SentimentModel\n",
    "from sklearn.utils.class_weight import compute_class_weight"
   ]
  },
  {
   "cell_type": "markdown",
   "metadata": {
    "id": "M3Abea0_0iMZ"
   },
   "source": [
    "### Model Building\n",
    "\n",
    "Various pre-trained models were evaluated, all specifically trained on the German language or multilingual datasets. Eventually, fine-tuning and feature engineering with bert-base-german-cased yielded the best performance."
   ]
  },
  {
   "cell_type": "code",
   "execution_count": 6,
   "metadata": {
    "id": "ECrO6ePK5Mys"
   },
   "outputs": [],
   "source": [
    "device = torch.device(\"cuda:0\" if torch.cuda.is_available() else \"cpu\")\n",
    "nlp = spacy.load(\"de_core_news_sm\")\n",
    "ANNOTATOR_COLUMNS = ['A001', 'A002', 'A003', 'A004', 'A005', 'A007', 'A008', 'A009', 'A010', 'A012']\n",
    "\n",
    "checkpoint = \"google-bert/bert-base-german-cased\"\n",
    "\n",
    "# \"google-bert/bert-base-german-cased\"\n",
    "# \"google-bert/bert-base-multilingual-cased\"\n",
    "# \"FacebookAI/xlm-roberta-large-finetuned-conll03-german\"\n",
    "# \"ml6team/distilbert-base-german-cased-toxic-comments\""
   ]
  },
  {
   "cell_type": "code",
   "execution_count": 7,
   "metadata": {
    "id": "NxOFR4dN5EbC"
   },
   "outputs": [],
   "source": [
    "class MultiTaskModel(nn.Module):\n",
    "    \"\"\"\n",
    "    Multi-task Transformer model using BERT-based embeddings for annotation tasks.\n",
    "    Each tasks corresponds to the prediction of one annotator.\n",
    "\n",
    "    Args:\n",
    "        tfidf_dicts (dict): Dictionary containing TF-IDF scores for each document.\n",
    "        nr_preds (int): Number of predictions per annotator (either 2 for binary, 4 for multi-class).\n",
    "        num_annotators (int): Number of annotators.\n",
    "        bert_model (str): Pre-trained BERT model checkpoint.\n",
    "        bert_dim (int): Dimension of BERT embeddings. Typically 768, however larger when incorporating additional features.\n",
    "        tfidf (bool): Flag indicating whether to use TF-IDF features.\n",
    "        sent (bool): Flag indicating whether to include sentiment feature\n",
    "    \"\"\"\n",
    "\n",
    "    def __init__(self, tfidf_dicts=None, nr_preds=2, num_annotators=10, bert_model=checkpoint, bert_dim=768, tfidf=False, sent=False):\n",
    "        \n",
    "        super(MultiTaskModel, self).__init__()\n",
    "        self.num_annotators = num_annotators\n",
    "        self.tfidf_dicts = tfidf_dicts\n",
    "        self.nr_preds = nr_preds\n",
    "        self.tfidf = tfidf\n",
    "        self.sent = sent\n",
    "        \n",
    "        self.tokenizer = AutoTokenizer.from_pretrained(checkpoint)\n",
    "        self.bert = AutoModel.from_pretrained(checkpoint)\n",
    "        self.sentiment_model = SentimentModel()\n",
    "        \n",
    "        self.bert_dim = bert_dim\n",
    "        if sent:\n",
    "            self.bert_dim = bert_dim + 3\n",
    "\n",
    "        # Shared layers\n",
    "        self.shared_dense1 = nn.Linear(self.bert_dim, 128)\n",
    "        self.dropout1 = nn.Dropout(0.2)\n",
    "        self.batch_norm1 = nn.BatchNorm1d(128)\n",
    "\n",
    "        self.shared_dense2 = nn.Linear(128, 64)\n",
    "        self.dropout2 = nn.Dropout(0.2)\n",
    "        self.batch_norm2 = nn.BatchNorm1d(64)\n",
    "\n",
    "        # Annotator-specific output layers\n",
    "        self.annotator_heads = nn.ModuleDict({\n",
    "            str(name): nn.Linear(64, nr_preds) for name in ANNOTATOR_COLUMNS\n",
    "        })\n",
    "\n",
    "    def forward(self, input_ids, doc_idx, attention_mask=None, token_type_ids=None):\n",
    "        \"\"\"\n",
    "        Performs forward pass through the model.\n",
    "        \"\"\"\n",
    "        outputs = self.bert(input_ids, attention_mask=attention_mask, return_dict=True) #token_type_ids=token_type_ids,\n",
    "\n",
    "        # Extract the CLS token output for classification\n",
    "        cls_token = outputs.last_hidden_state[:, 0, :] # shape 8x768\n",
    "\n",
    "        # Apply TF-IDF features if enabled\n",
    "        if self.tfidf:\n",
    "            tfidf_scores = self.compute_tfidf(input_ids, doc_idx)\n",
    "            cls_token = cls_token * tfidf_scores[:, 0].unsqueeze(-1)\n",
    "\n",
    "        # Apply sentiment analysis features if enabled\n",
    "        if self.sent:\n",
    "            additional_features = self.compute_additional_features(input_ids)\n",
    "            # Concatenate CLS token with additional features\n",
    "            cls_token = torch.cat((cls_token, additional_features), dim=1)\n",
    "\n",
    "        # Shared layers\n",
    "        shared_layer = self.shared_dense1(cls_token) # weigths shape 512x128\n",
    "        shared_layer = torch.relu(shared_layer)\n",
    "        shared_layer = self.dropout1(shared_layer)\n",
    "        shared_layer = self.batch_norm1(shared_layer)\n",
    "\n",
    "        shared_layer = self.shared_dense2(shared_layer)\n",
    "        shared_layer = torch.relu(shared_layer)\n",
    "        shared_layer = self.dropout2(shared_layer)\n",
    "        shared_layer = self.batch_norm2(shared_layer)\n",
    "\n",
    "        # Annotator-specific heads for binary and multi-label classification\n",
    "        if self.nr_preds==2:\n",
    "            outputs = {str(column_name): torch.sigmoid(head(shared_layer)) for column_name, head in self.annotator_heads.items()}\n",
    "        elif self.nr_preds==4:\n",
    "            outputs = {str(column_name): torch.softmax(head(shared_layer), dim=-1) for column_name, head in self.annotator_heads.items()}\n",
    "\n",
    "        return outputs\n",
    "\n",
    "    def compute_tfidf(self, input_ids, doc_idx):\n",
    "        \"\"\"\n",
    "        Computes TF-IDF scores for input tokens.\n",
    "        \"\"\"\n",
    "        batch_size = input_ids.size(0)\n",
    "        tfidf_scores_batch = []\n",
    "\n",
    "        for i in range(batch_size):\n",
    "            tfidf_dict = self.tfidf_dicts[doc_idx[i].item()]\n",
    "            tfidf_scores = torch.tensor(\n",
    "              [tfidf_dict.get(self.tokenizer.decode([input_id]), 1.0) for input_id in input_ids[i]]\n",
    "            ).float()\n",
    "            tfidf_scores = tfidf_scores.to(input_ids.device) \n",
    "            tfidf_scores_batch.append(tfidf_scores)\n",
    "\n",
    "        tfidf_scores_batch = torch.stack(tfidf_scores_batch)\n",
    "        return tfidf_scores_batch\n",
    "\n",
    "    def compute_additional_features(self, input_ids):\n",
    "        \"\"\"\n",
    "        Computes additional features for input tokens. It was experimented with sentiment, length\n",
    "        of entry, question and exclamation mark ratio.\n",
    "        \"\"\"\n",
    "            \n",
    "        additional_features = []\n",
    "\n",
    "        for input_id in input_ids:\n",
    "            text = self.tokenizer.decode(input_id, skip_special_tokens=True)\n",
    "            #text_length = len(text.split())\n",
    "            #question_mark_ratio = text.count('?') / text_length if text_length > 0 else 0\n",
    "            #exclamation_mark_ratio = text.count('!') / text_length if text_length > 0 else 0\n",
    "\n",
    "            classes, probabilities = self.sentiment_model.predict_sentiment([text], output_probabilities = True)\n",
    "            sentiment_positive = probabilities[0][0][1]\n",
    "            sentiment_negative = probabilities[0][1][1]\n",
    "            sentiment_neutral = probabilities[0][2][1]\n",
    "            additional_features.append([sentiment_positive, sentiment_negative, sentiment_neutral])\n",
    "\n",
    "        return torch.tensor(additional_features).to(input_ids.device)"
   ]
  },
  {
   "cell_type": "markdown",
   "metadata": {},
   "source": [
    "More detailed explanation about the incorporation of tf-idf scores can be found in the paper."
   ]
  },
  {
   "cell_type": "markdown",
   "metadata": {
    "id": "qI-kxZ2s0l88"
   },
   "source": [
    "### Data Preparation\n",
    "\n",
    "For fine-tuning we experimented a lot with the combination of additional features as well as pre-processing, such as upsampling minority classes or applying lemmatization to the dataframe. Both techniques yielded worse performance, thus were not utilized."
   ]
  },
  {
   "cell_type": "code",
   "execution_count": 8,
   "metadata": {},
   "outputs": [],
   "source": [
    "def upsample_minority_classes(df):\n",
    "    \"\"\"\n",
    "    Upsamples minority classes in a DataFrame for each annotator column. Only for binary df.\n",
    "    \"\"\"\n",
    "    upsampled_dfs = []\n",
    "\n",
    "    for annotator in ANNOTATOR_COLUMNS:\n",
    "        majority_class = df[df[annotator] == 0]\n",
    "        minority_class = df[df[annotator] == 1]\n",
    "        \n",
    "        minority_upsampled = resample(\n",
    "            minority_class, \n",
    "            replace=True,  \n",
    "            n_samples=majority_class.shape[0], \n",
    "            random_state=42 \n",
    "        )\n",
    "        \n",
    "        upsampled_df = pd.concat([majority_class, minority_upsampled])\n",
    "        upsampled_dfs.append(upsampled_df)\n",
    "    \n",
    "    combined_upsampled_df = pd.concat(upsampled_dfs).drop_duplicates().reset_index(drop=True)  \n",
    "    return combined_upsampled_df\n",
    "\n",
    "def lemma(text):\n",
    "    \"\"\" \n",
    "    Apply lemmatization and stopword removal. \n",
    "    \"\"\"\n",
    "    doc = nlp(text)\n",
    "    result = ' '.join([\n",
    "        token.text if token.is_punct else token.lemma_\n",
    "        for token in doc\n",
    "        if not token.is_stop\n",
    "    ])\n",
    "    return result.lower()"
   ]
  },
  {
   "cell_type": "code",
   "execution_count": 9,
   "metadata": {},
   "outputs": [],
   "source": [
    "def get_train_df(split, path, upsample=False, lemmat=False):\n",
    "    \"\"\"\n",
    "    Prepares training dataframes for binary and multi-class classification tasks with optional \n",
    "    data preprocessing, specifically upsampling and lemmatization. Method offers possibility\n",
    "    to get only the original df, the df augmented once or augmented twice.\n",
    "    \"\"\"\n",
    "    df = pd.read_csv(path)\n",
    "    #df = df.drop('A011', axis=1)\n",
    "    df = df.drop('Unnamed: 0', axis=1)\n",
    "\n",
    "    if split == 1:\n",
    "        end_index = 4486\n",
    "    elif split == 2:\n",
    "        end_index = 8972\n",
    "    elif split==3:\n",
    "        end_index = len(df)\n",
    "    \n",
    "    df = df[:end_index]\n",
    "\n",
    "    # Binary classification\n",
    "    df_bin = df.copy()\n",
    "    df_bin[ANNOTATOR_COLUMNS] = df_bin[ANNOTATOR_COLUMNS].replace([2, 3, 4], 1)\n",
    "\n",
    "    # Multi-class classification\n",
    "    replace_dict = {0: -1, 1: 0, 2: 1, 3: 2, 4: 3}\n",
    "    df_mul = df.copy()\n",
    "    df_mul[ANNOTATOR_COLUMNS] = df_mul[ANNOTATOR_COLUMNS].replace(replace_dict)\n",
    "\n",
    "    if upsample:\n",
    "        df_bin = upsample_minority_classes(df_bin)\n",
    "        df_mul = upsample_minority_classes(df_mul)\n",
    "    if lemmat:\n",
    "        df_bin['text'] = df_bin['text'].apply(lambda x: lemma(x))\n",
    "        df_mul['text'] = df_mul['text'].apply(lambda x: lemma(x))\n",
    "    \n",
    "    return df, df_bin, df_mul"
   ]
  },
  {
   "cell_type": "code",
   "execution_count": 17,
   "metadata": {
    "id": "QzCG9Xhw00-5"
   },
   "outputs": [],
   "source": [
    "class MultiTaskDataset(Dataset):\n",
    "    \"\"\"\n",
    "    Creates a PyTorch Dataset for multi-task learning with BERT-based models.\n",
    "\n",
    "    Args:\n",
    "        dataframe (DataFrame): Pandas DataFrame containing text data and annotations.\n",
    "        max_len (int): Maximum length of tokenized inputs for padding/truncation.\n",
    "    \"\"\"\n",
    "    def __init__(self, dataframe, max_len):\n",
    "        self.dataframe = dataframe\n",
    "        self.tokenizer = AutoTokenizer.from_pretrained(checkpoint)\n",
    "        self.max_len = max_len\n",
    "\n",
    "    def __len__(self):\n",
    "        return len(self.dataframe)\n",
    "\n",
    "    def __getitem__(self, item):\n",
    "        text = self.dataframe.iloc[item]['text']\n",
    "        labels = {annotator: torch.tensor(int(self.dataframe.iloc[item][annotator]), dtype=torch.int)\n",
    "                  for annotator in ANNOTATOR_COLUMNS}\n",
    "\n",
    "        encoding = self.tokenizer.encode_plus(\n",
    "            text,\n",
    "            add_special_tokens=True,\n",
    "            max_length=self.max_len,\n",
    "            return_token_type_ids=False,\n",
    "            padding='max_length',\n",
    "            truncation=True,\n",
    "            return_attention_mask=True,\n",
    "            return_tensors='pt',\n",
    "        )\n",
    "\n",
    "        return {\n",
    "            'input_ids': encoding['input_ids'].flatten(),\n",
    "            'attention_mask': encoding['attention_mask'].flatten(),\n",
    "            'labels': labels,\n",
    "            'doc_idx': torch.tensor(item, dtype=torch.long)\n",
    "        }"
   ]
  },
  {
   "cell_type": "code",
   "execution_count": 18,
   "metadata": {
    "id": "4-jSMcaPYrQd"
   },
   "outputs": [],
   "source": [
    "def get_tfidf_dict(df):\n",
    "    \"\"\"\n",
    "    Utilizes TfidfVectorizer to compute TF-IDF scores for words in the text data stored in a DataFrame.\n",
    "    Returns a list of dictionaries, where each dictionary maps words to their corresponding TF-IDF scores \n",
    "    for each document in the DataFrame. \n",
    "    \"\"\"\n",
    "    vectorizer = TfidfVectorizer()\n",
    "    X = vectorizer.fit_transform(df['text'])\n",
    "    tfidf_scores = X.toarray()\n",
    "    feature_names = vectorizer.get_feature_names_out()\n",
    "\n",
    "    tfidf_dicts = [] \n",
    "    for doc_idx, doc in enumerate(df['text']):\n",
    "        tfidf_dict = {word: tfidf_scores[doc_idx, idx] for idx, word in enumerate(feature_names) if tfidf_scores[doc_idx, idx] > 0}\n",
    "        tfidf_dicts.append(tfidf_dict)\n",
    "    return tfidf_dicts\n",
    "\n",
    "def compute_class_weights(df, annotator_column):\n",
    "    \"\"\" \n",
    "    To address the highly imbalanced dataframes, class weights for every annotator are calculated.\n",
    "    \"\"\"\n",
    "    y = df[annotator_column].values\n",
    "    y_filtered = y[y != -1]\n",
    "    class_weights = compute_class_weight('balanced', classes=np.unique(y_filtered), y=y_filtered)\n",
    "    return torch.tensor(class_weights, dtype=torch.float)"
   ]
  },
  {
   "cell_type": "markdown",
   "metadata": {
    "id": "dEx8mZoYLhtp"
   },
   "source": [
    "### Define Data & Training Parameter"
   ]
  },
  {
   "cell_type": "code",
   "execution_count": 42,
   "metadata": {},
   "outputs": [
    {
     "data": {
      "text/html": [
       "<div>\n",
       "<style scoped>\n",
       "    .dataframe tbody tr th:only-of-type {\n",
       "        vertical-align: middle;\n",
       "    }\n",
       "\n",
       "    .dataframe tbody tr th {\n",
       "        vertical-align: top;\n",
       "    }\n",
       "\n",
       "    .dataframe thead th {\n",
       "        text-align: right;\n",
       "    }\n",
       "</style>\n",
       "<table border=\"1\" class=\"dataframe\">\n",
       "  <thead>\n",
       "    <tr style=\"text-align: right;\">\n",
       "      <th></th>\n",
       "      <th>text</th>\n",
       "      <th>A012</th>\n",
       "      <th>A003</th>\n",
       "      <th>A005</th>\n",
       "      <th>A001</th>\n",
       "      <th>A008</th>\n",
       "      <th>A004</th>\n",
       "      <th>A007</th>\n",
       "      <th>A010</th>\n",
       "      <th>A002</th>\n",
       "      <th>A009</th>\n",
       "    </tr>\n",
       "  </thead>\n",
       "  <tbody>\n",
       "    <tr>\n",
       "      <th>0</th>\n",
       "      <td>Wen man nicht reinläßt, den muss man auch nich...</td>\n",
       "      <td>-1</td>\n",
       "      <td>-1</td>\n",
       "      <td>-1</td>\n",
       "      <td>-1</td>\n",
       "      <td>-1</td>\n",
       "      <td>-1</td>\n",
       "      <td>-1</td>\n",
       "      <td>-1</td>\n",
       "      <td>-1</td>\n",
       "      <td>-1</td>\n",
       "    </tr>\n",
       "    <tr>\n",
       "      <th>1</th>\n",
       "      <td>Und eine Katze die schnurrt genügt Ihnen? \\nUn...</td>\n",
       "      <td>0</td>\n",
       "      <td>0</td>\n",
       "      <td>-1</td>\n",
       "      <td>-1</td>\n",
       "      <td>0</td>\n",
       "      <td>-1</td>\n",
       "      <td>0</td>\n",
       "      <td>-1</td>\n",
       "      <td>-1</td>\n",
       "      <td>-1</td>\n",
       "    </tr>\n",
       "  </tbody>\n",
       "</table>\n",
       "</div>"
      ],
      "text/plain": [
       "                                                text  A012  A003  A005  A001  \\\n",
       "0  Wen man nicht reinläßt, den muss man auch nich...    -1    -1    -1    -1   \n",
       "1  Und eine Katze die schnurrt genügt Ihnen? \\nUn...     0     0    -1    -1   \n",
       "\n",
       "   A008  A004  A007  A010  A002  A009  \n",
       "0    -1    -1    -1    -1    -1    -1  \n",
       "1     0    -1     0    -1    -1    -1  "
      ]
     },
     "execution_count": 42,
     "metadata": {},
     "output_type": "execute_result"
    }
   ],
   "source": [
    "path='df_train_original.csv'\n",
    "# order: df normal, df binary, df multi-class\n",
    "_, _, df = get_train_df(split=3, path=path, upsample=False, lemmat=False)\n",
    "df.head(2)"
   ]
  },
  {
   "cell_type": "code",
   "execution_count": 43,
   "metadata": {},
   "outputs": [],
   "source": [
    "def get_criterion_dict():\n",
    "    \"\"\" \n",
    "    Creates a dictionary of loss functions (criterions) for each annotator with class weights to handle imbalanced data.\n",
    "    \"\"\"\n",
    "    class_weights_dict = {}\n",
    "    criterion_dict = {}\n",
    "\n",
    "    for annotator in ANNOTATOR_COLUMNS:\n",
    "        class_weights = compute_class_weights(df, annotator)\n",
    "        class_weights_dict[annotator] = class_weights.to(device)\n",
    "        criterion_dict[annotator] = nn.CrossEntropyLoss(weight=class_weights.to(device))\n",
    "    return criterion_dict\n",
    "\n",
    "criterion_dict = get_criterion_dict()"
   ]
  },
  {
   "cell_type": "code",
   "execution_count": 44,
   "metadata": {
    "id": "1tnyucG6agat"
   },
   "outputs": [],
   "source": [
    "max_len = 64 # as median and avg are 32\n",
    "batch_size = 16\n",
    "num_epochs = 8 # 7 for binary prediction, 8 epochs for multi-class \n",
    "learning_rate = 0.01 # 0.005 for binary prediction, 0.01 for multi-class \n",
    "weight_decay = 1e-4"
   ]
  },
  {
   "cell_type": "code",
   "execution_count": 52,
   "metadata": {
    "id": "yvVyGOtHX4Ot"
   },
   "outputs": [],
   "source": [
    "tfidf_dicts = get_tfidf_dict(df)\n",
    "model = MultiTaskModel(nr_preds=4, tfidf_dicts=tfidf_dicts, tfidf=True, sent=False)"
   ]
  },
  {
   "cell_type": "code",
   "execution_count": 46,
   "metadata": {},
   "outputs": [],
   "source": [
    "annotator_mapping = {str(i): annotator for i, annotator in enumerate(df.columns[1:], start=0)}\n",
    "optimizer = optim.SGD(model.parameters(), lr=learning_rate, momentum=0.9, weight_decay=weight_decay, nesterov=True)\n",
    "\n",
    "#optimizer = torch.optim.Adam(model.parameters(), lr=learning_rate)\n",
    "#optimizer = torch.optim.AdamW(model.parameters(), lr=learning_rate, weight_decay=weight_decay)\n",
    "\n",
    "#scheduler = get_linear_schedule_with_warmup(optimizer=sgd, num_warmup_steps=warmup_steps, num_training_steps=total_steps)\n",
    "#scheduler = StepLR(optimizer, step_size=1, gamma=0.1)"
   ]
  },
  {
   "cell_type": "code",
   "execution_count": 47,
   "metadata": {},
   "outputs": [],
   "source": [
    "shuffled_df = df.sample(frac=1, random_state=42).reset_index(drop=True)\n",
    "train_df, val_df = train_test_split(shuffled_df, test_size=0.15, random_state=42)\n",
    "\n",
    "train_dataset = MultiTaskDataset(train_df, max_len)\n",
    "val_dataset = MultiTaskDataset(val_df, max_len)\n",
    "\n",
    "train_loader = DataLoader(train_dataset, batch_size=batch_size, shuffle=True)\n",
    "val_loader = DataLoader(val_dataset, batch_size=batch_size, shuffle=True)\n",
    "\n",
    "dataset = MultiTaskDataset(df, max_len)\n",
    "#train_loader = DataLoader(dataset, batch_size=batch_size, shuffle=True)"
   ]
  },
  {
   "cell_type": "code",
   "execution_count": 48,
   "metadata": {},
   "outputs": [],
   "source": [
    "total_steps = len(train_loader) * num_epochs\n",
    "warmup_steps = 0.1 * total_steps"
   ]
  },
  {
   "cell_type": "code",
   "execution_count": 49,
   "metadata": {},
   "outputs": [],
   "source": [
    "# evaluation while training after each epoch to control num epochs\n",
    "\n",
    "def evaluate(model, loader):\n",
    "    \"\"\"\n",
    "    Evaluates the model on the provided data loader. Will be called after each fine-tune epoch to supervise training.\n",
    "    \"\"\"\n",
    "    model.eval() \n",
    "    \n",
    "    test_loss = 0\n",
    "    test_accuracy = 0\n",
    "    test_batches = 0\n",
    "    test_precision = 0\n",
    "    test_recall = 0\n",
    "    test_f1 = 0\n",
    "\n",
    "    with torch.no_grad(): \n",
    "        for batch_idx, batch in enumerate(tqdm(loader, desc=f'Evaluating...')):\n",
    "            \n",
    "            input_ids = batch['input_ids'].to(device)\n",
    "            attention_mask = batch['attention_mask'].to(device)\n",
    "            labels = batch['labels']\n",
    "            doc_idx = batch['doc_idx'].to(device)\n",
    "            #model.to(device)\n",
    "\n",
    "            outputs = model(input_ids, doc_idx, attention_mask)\n",
    "            loss = 0\n",
    "\n",
    "            for annotator, logits in outputs.items():\n",
    "                annotator_labels = labels[annotator].long().to(device)\n",
    "                mask = annotator_labels != -1  \n",
    "                if mask.sum() > 0: \n",
    "                    masked_logits = logits[mask]\n",
    "                    masked_labels = annotator_labels[mask]\n",
    "\n",
    "                    criterion = criterion_dict[annotator]\n",
    "                    loss += criterion(masked_logits, masked_labels)\n",
    "\n",
    "                    predicted_labels = torch.argmax(masked_logits, dim=1).cpu().numpy()\n",
    "                    true_labels = masked_labels.cpu().numpy()\n",
    "\n",
    "                    accuracy = accuracy_score(true_labels, predicted_labels)\n",
    "                    precision = precision_score(true_labels, predicted_labels, average='macro', zero_division=1)\n",
    "                    recall = recall_score(true_labels, predicted_labels, average='macro', zero_division=1)\n",
    "                    f1 = f1_score(true_labels, predicted_labels, average='macro', zero_division=1)\n",
    "\n",
    "                    test_accuracy += accuracy\n",
    "                    test_precision += precision\n",
    "                    test_recall += recall\n",
    "                    test_f1 += f1\n",
    "\n",
    "                    test_batches += 1\n",
    "\n",
    "            test_loss += loss.item()\n",
    "\n",
    "    avg_loss = test_loss / len(loader)\n",
    "    avg_accuracy = test_accuracy / test_batches\n",
    "    avg_precision = test_precision / test_batches\n",
    "    avg_recall = test_recall / test_batches\n",
    "    avg_f1 = test_f1 / test_batches\n",
    "\n",
    "    print(f'Loss: {avg_loss:.3f}, Accuracy: {avg_accuracy:.3f}, Precision: {avg_precision:.3f}, Recall: {avg_recall:.3f}, F1 Score: {avg_f1:.3f}')"
   ]
  },
  {
   "cell_type": "markdown",
   "metadata": {},
   "source": [
    "### Training"
   ]
  },
  {
   "cell_type": "code",
   "execution_count": 50,
   "metadata": {
    "colab": {
     "base_uri": "https://localhost:8080/"
    },
    "id": "Qu2sxFR3rdG1",
    "outputId": "67b71798-121f-425c-e59b-80b06e3b4188"
   },
   "outputs": [],
   "source": [
    "def train_model(model, train_loader, val_loader, optimizer, num_epochs):\n",
    "    \"\"\"\n",
    "    This function trains the given model using the training data loader for a specified number of epochs.\n",
    "    \"\"\"\n",
    "    \n",
    "    for epoch in range(num_epochs):\n",
    "        print(\"\")\n",
    "        print('======== Epoch {:} / {:} ========'.format(epoch + 1, num_epochs))\n",
    "        print('Training...')\n",
    "\n",
    "        total_loss = 0\n",
    "        total_accuracy = 0\n",
    "        total_batches = 0\n",
    "        total_precision = 0\n",
    "        total_recall = 0\n",
    "        total_f1 = 0\n",
    "\n",
    "        for batch_idx, batch in enumerate(tqdm(train_loader, desc=f'Epoch {epoch + 1}/{num_epochs}')):\n",
    "            input_ids = batch['input_ids'].to(device)\n",
    "            attention_mask = batch['attention_mask'].to(device)\n",
    "            labels = batch['labels']\n",
    "            doc_idx = batch['doc_idx'].to(device)\n",
    "\n",
    "            model.to(device)\n",
    "            model.train()\n",
    "\n",
    "            optimizer.zero_grad() # clear any previously calculated gradients\n",
    "            outputs = model(input_ids, doc_idx, attention_mask)\n",
    "\n",
    "            loss = 0\n",
    "            for annotator, logits in outputs.items():\n",
    "                annotator_labels = labels[annotator].long()\n",
    "                mask = annotator_labels != -1  # -1 indicates not present labels\n",
    "                if mask.sum() > 0:\n",
    "                    masked_logits = logits[mask]\n",
    "                    masked_labels = annotator_labels[mask].to(logits.device)\n",
    "\n",
    "                    criterion = criterion_dict[annotator]\n",
    "                    loss += criterion(masked_logits, masked_labels)\n",
    "\n",
    "                    predicted_labels = torch.argmax(masked_logits, dim=1)\n",
    "                    accuracy = accuracy_score(masked_labels.cpu().numpy(), predicted_labels.cpu().numpy())\n",
    "                    precision = precision_score(masked_labels.cpu().numpy(), predicted_labels.cpu().numpy(), average='macro', zero_division=1)\n",
    "                    recall = recall_score(masked_labels.cpu().numpy(), predicted_labels.cpu().numpy(), average='macro', zero_division=1)\n",
    "                    f1 = f1_score(masked_labels.cpu().numpy(), predicted_labels.cpu().numpy(), average='macro', zero_division=1)\n",
    "\n",
    "                    total_accuracy += accuracy\n",
    "                    total_precision += precision\n",
    "                    total_recall += recall\n",
    "                    total_f1 += f1\n",
    "\n",
    "                    total_batches += 1\n",
    "\n",
    "            loss.backward()\n",
    "            torch.nn.utils.clip_grad_norm_(model.parameters(), max_norm=1.0)  # Gradient Clipping\n",
    "            optimizer.step()\n",
    "            #scheduler.step()\n",
    "            total_loss += loss.item()\n",
    "\n",
    "        avg_accuracy = total_accuracy / total_batches\n",
    "        avg_loss = total_loss / len(train_loader)\n",
    "        avg_precision = total_precision / total_batches\n",
    "        avg_recall = total_recall / total_batches\n",
    "        avg_f1 = total_f1 / total_batches\n",
    "\n",
    "        print(f'Epoch {epoch+1}/{num_epochs}, Loss, Accuracy, Precision, Recall, F1: {avg_loss:.3f}, {avg_accuracy:.3f}, {avg_precision:.3f}, {avg_recall:.3f}, {avg_f1:.3f}')\n",
    "\n",
    "        # evaluation after each epoch\n",
    "        evaluate(model, val_loader)\n",
    "    \n",
    "    return model"
   ]
  },
  {
   "cell_type": "code",
   "execution_count": 51,
   "metadata": {},
   "outputs": [
    {
     "name": "stdout",
     "output_type": "stream",
     "text": [
      "\n",
      "======== Epoch 1 / 8 ========\n",
      "Training...\n"
     ]
    },
    {
     "name": "stderr",
     "output_type": "stream",
     "text": [
      "Epoch 1/8: 100%|██████████| 952/952 [02:01<00:00,  7.85it/s]\n"
     ]
    },
    {
     "name": "stdout",
     "output_type": "stream",
     "text": [
      "Epoch 1/8, Loss, Accuracy, Precision, Recall, F1: 11.489, 0.276, 0.494, 0.541, 0.223\n"
     ]
    },
    {
     "name": "stderr",
     "output_type": "stream",
     "text": [
      "Evaluating...: 100%|██████████| 168/168 [00:12<00:00, 13.61it/s]\n"
     ]
    },
    {
     "name": "stdout",
     "output_type": "stream",
     "text": [
      "Loss: 11.608, Accuracy: 0.346, Precision: 0.682, Recall: 0.527, F1 Score: 0.277\n",
      "\n",
      "======== Epoch 2 / 8 ========\n",
      "Training...\n"
     ]
    },
    {
     "name": "stderr",
     "output_type": "stream",
     "text": [
      "Epoch 2/8: 100%|██████████| 952/952 [02:02<00:00,  7.76it/s]\n"
     ]
    },
    {
     "name": "stdout",
     "output_type": "stream",
     "text": [
      "Epoch 2/8, Loss, Accuracy, Precision, Recall, F1: 11.437, 0.331, 0.524, 0.544, 0.273\n"
     ]
    },
    {
     "name": "stderr",
     "output_type": "stream",
     "text": [
      "Evaluating...: 100%|██████████| 168/168 [00:12<00:00, 13.85it/s]\n"
     ]
    },
    {
     "name": "stdout",
     "output_type": "stream",
     "text": [
      "Loss: 11.405, Accuracy: 0.421, Precision: 0.697, Recall: 0.539, F1 Score: 0.331\n",
      "\n",
      "======== Epoch 3 / 8 ========\n",
      "Training...\n"
     ]
    },
    {
     "name": "stderr",
     "output_type": "stream",
     "text": [
      "Epoch 3/8: 100%|██████████| 952/952 [02:02<00:00,  7.76it/s]\n"
     ]
    },
    {
     "name": "stdout",
     "output_type": "stream",
     "text": [
      "Epoch 3/8, Loss, Accuracy, Precision, Recall, F1: 11.306, 0.378, 0.573, 0.543, 0.310\n"
     ]
    },
    {
     "name": "stderr",
     "output_type": "stream",
     "text": [
      "Evaluating...: 100%|██████████| 168/168 [00:12<00:00, 13.60it/s]\n"
     ]
    },
    {
     "name": "stdout",
     "output_type": "stream",
     "text": [
      "Loss: 11.354, Accuracy: 0.452, Precision: 0.764, Recall: 0.542, F1 Score: 0.340\n",
      "\n",
      "======== Epoch 4 / 8 ========\n",
      "Training...\n"
     ]
    },
    {
     "name": "stderr",
     "output_type": "stream",
     "text": [
      "Epoch 4/8: 100%|██████████| 952/952 [02:02<00:00,  7.74it/s]\n"
     ]
    },
    {
     "name": "stdout",
     "output_type": "stream",
     "text": [
      "Epoch 4/8, Loss, Accuracy, Precision, Recall, F1: 11.156, 0.412, 0.623, 0.543, 0.332\n"
     ]
    },
    {
     "name": "stderr",
     "output_type": "stream",
     "text": [
      "Evaluating...: 100%|██████████| 168/168 [00:12<00:00, 13.61it/s]\n"
     ]
    },
    {
     "name": "stdout",
     "output_type": "stream",
     "text": [
      "Loss: 11.030, Accuracy: 0.464, Precision: 0.771, Recall: 0.541, F1 Score: 0.347\n",
      "\n",
      "======== Epoch 5 / 8 ========\n",
      "Training...\n"
     ]
    },
    {
     "name": "stderr",
     "output_type": "stream",
     "text": [
      "Epoch 5/8: 100%|██████████| 952/952 [02:03<00:00,  7.73it/s]\n"
     ]
    },
    {
     "name": "stdout",
     "output_type": "stream",
     "text": [
      "Epoch 5/8, Loss, Accuracy, Precision, Recall, F1: 11.127, 0.427, 0.647, 0.544, 0.344\n"
     ]
    },
    {
     "name": "stderr",
     "output_type": "stream",
     "text": [
      "Evaluating...: 100%|██████████| 168/168 [00:12<00:00, 13.63it/s]\n"
     ]
    },
    {
     "name": "stdout",
     "output_type": "stream",
     "text": [
      "Loss: 11.127, Accuracy: 0.474, Precision: 0.773, Recall: 0.551, F1 Score: 0.358\n",
      "\n",
      "======== Epoch 6 / 8 ========\n",
      "Training...\n"
     ]
    },
    {
     "name": "stderr",
     "output_type": "stream",
     "text": [
      "Epoch 6/8: 100%|██████████| 952/952 [02:02<00:00,  7.74it/s]\n"
     ]
    },
    {
     "name": "stdout",
     "output_type": "stream",
     "text": [
      "Epoch 6/8, Loss, Accuracy, Precision, Recall, F1: 11.183, 0.423, 0.652, 0.544, 0.342\n"
     ]
    },
    {
     "name": "stderr",
     "output_type": "stream",
     "text": [
      "Evaluating...: 100%|██████████| 168/168 [00:12<00:00, 13.61it/s]\n"
     ]
    },
    {
     "name": "stdout",
     "output_type": "stream",
     "text": [
      "Loss: 11.089, Accuracy: 0.438, Precision: 0.760, Recall: 0.543, F1 Score: 0.336\n",
      "\n",
      "======== Epoch 7 / 8 ========\n",
      "Training...\n"
     ]
    },
    {
     "name": "stderr",
     "output_type": "stream",
     "text": [
      "Epoch 7/8: 100%|██████████| 952/952 [02:02<00:00,  7.74it/s]\n"
     ]
    },
    {
     "name": "stdout",
     "output_type": "stream",
     "text": [
      "Epoch 7/8, Loss, Accuracy, Precision, Recall, F1: 11.159, 0.417, 0.645, 0.541, 0.338\n"
     ]
    },
    {
     "name": "stderr",
     "output_type": "stream",
     "text": [
      "Evaluating...: 100%|██████████| 168/168 [00:12<00:00, 13.59it/s]\n"
     ]
    },
    {
     "name": "stdout",
     "output_type": "stream",
     "text": [
      "Loss: 11.162, Accuracy: 0.474, Precision: 0.771, Recall: 0.557, F1 Score: 0.362\n",
      "\n",
      "======== Epoch 8 / 8 ========\n",
      "Training...\n"
     ]
    },
    {
     "name": "stderr",
     "output_type": "stream",
     "text": [
      "Epoch 8/8: 100%|██████████| 952/952 [02:03<00:00,  7.72it/s]\n"
     ]
    },
    {
     "name": "stdout",
     "output_type": "stream",
     "text": [
      "Epoch 8/8, Loss, Accuracy, Precision, Recall, F1: 11.162, 0.427, 0.658, 0.546, 0.345\n"
     ]
    },
    {
     "name": "stderr",
     "output_type": "stream",
     "text": [
      "Evaluating...: 100%|██████████| 168/168 [00:12<00:00, 13.59it/s]"
     ]
    },
    {
     "name": "stdout",
     "output_type": "stream",
     "text": [
      "Loss: 11.025, Accuracy: 0.445, Precision: 0.762, Recall: 0.540, F1 Score: 0.337\n"
     ]
    },
    {
     "name": "stderr",
     "output_type": "stream",
     "text": [
      "\n"
     ]
    }
   ],
   "source": [
    "model = train_model(model, train_loader, val_loader, optimizer, num_epochs)"
   ]
  },
  {
   "cell_type": "code",
   "execution_count": 126,
   "metadata": {},
   "outputs": [],
   "source": [
    "# method used to predict values in test df\n",
    "\n",
    "def predict(model, df, binary_prediction):\n",
    "    \"\"\"\n",
    "    Predicts the values for the given datafrane using the provided model.\n",
    "    \"\"\"\n",
    "        \n",
    "    global batch_size\n",
    "    dataset = MultiTaskDataset(df, max_len)\n",
    "    loader = DataLoader(dataset, batch_size=batch_size, shuffle=False)\n",
    "\n",
    "    model.eval()\n",
    "    model.to(device)\n",
    "\n",
    "    start_idx = 0\n",
    "    with torch.no_grad():\n",
    "        for batch_idx, batch in enumerate(tqdm(loader, desc=\"Predicting\")):\n",
    "            input_ids = batch['input_ids'].to(device)\n",
    "            attention_mask = batch['attention_mask'].to(device)\n",
    "            doc_idx = batch['doc_idx'].to(device)\n",
    "            \n",
    "            outputs = model(input_ids, doc_idx, attention_mask)\n",
    "            \n",
    "            batch_size = input_ids.size(0)\n",
    "            end_idx = start_idx + batch_size\n",
    "            \n",
    "            for annotator in ANNOTATOR_COLUMNS:\n",
    "                logits = outputs[annotator]\n",
    "                predicted_labels = torch.argmax(logits, dim=1).cpu().numpy()\n",
    "                \n",
    "                for i in range(start_idx, end_idx):\n",
    "                    if binary_prediction:\n",
    "                        if df.at[i, annotator] == 1:\n",
    "                            df.at[i, annotator] = predicted_labels[i - start_idx]\n",
    "                    else: \n",
    "                        if df.at[i, annotator] == 1:\n",
    "                            df.at[i, annotator] = predicted_labels[i - start_idx] + 1\n",
    "                        else: \n",
    "                            df.at[i, annotator] = -1\n",
    "            \n",
    "            start_idx = end_idx\n",
    "    \n",
    "    return df"
   ]
  },
  {
   "cell_type": "code",
   "execution_count": 124,
   "metadata": {},
   "outputs": [],
   "source": [
    "df_competition = pd.read_csv('df_comp_bin_2.csv')\n",
    "df_preds = predict(model, df_competition)\n",
    "df_preds = df_preds.drop('Unnamed: 0', axis=1)\n",
    "df_preds.head(2)"
   ]
  },
  {
   "cell_type": "code",
   "execution_count": 130,
   "metadata": {},
   "outputs": [],
   "source": [
    "#df_preds.to_csv('df_comp_multi_2.csv')"
   ]
  },
  {
   "cell_type": "markdown",
   "metadata": {},
   "source": [
    "### Evaluation\n",
    "\n",
    "Evaluation is performed using cross validation and computing a confusion matrix."
   ]
  },
  {
   "cell_type": "code",
   "execution_count": 53,
   "metadata": {},
   "outputs": [
    {
     "name": "stdout",
     "output_type": "stream",
     "text": [
      "Fold 1/5\n",
      "\n",
      "Epoch 1/8, Loss: 11.308426195489508, Accuracy: 0.25386508290763504, Precision: 0.4838665827804495, Recall: 0.5392408433288692\n",
      "\n",
      "Epoch 2/8, Loss: 11.328097369521856, Accuracy: 0.25346645707215987, Precision: 0.4845768809763203, Recall: 0.540022403715167\n",
      "\n",
      "Epoch 3/8, Loss: 11.370048411988787, Accuracy: 0.2507820152756596, Precision: 0.4804107254035532, Recall: 0.538109826865467\n",
      "\n",
      "Epoch 4/8, Loss: 11.34901222373758, Accuracy: 0.2569289559022612, Precision: 0.4842321795247902, Recall: 0.539920933694038\n",
      "\n",
      "Epoch 5/8, Loss: 11.314176713249513, Accuracy: 0.2626059715837577, Precision: 0.4874571506924483, Recall: 0.5444264477352729\n",
      "\n",
      "Epoch 6/8, Loss: 11.338849129953555, Accuracy: 0.25441612717236073, Precision: 0.4832115343625369, Recall: 0.5372513316325004\n",
      "\n",
      "Epoch 7/8, Loss: 11.32254196703434, Accuracy: 0.2557446958462181, Precision: 0.4837790201368919, Recall: 0.5404281593050649\n",
      "\n",
      "Epoch 8/8, Loss: 11.365990069827863, Accuracy: 0.2554909681908449, Precision: 0.48468824503059976, Recall: 0.5403590328892739\n",
      "Fold 1/5, Loss: 9.14139672262328, Accuracy: 0.24954151939545918, Precision: 0.4440228848559347, Recall: 0.49725713315217346\n",
      "Fold 2/5\n",
      "\n",
      "Epoch 1/8, Loss: 11.77635531393545, Accuracy: 0.25570652199754573, Precision: 0.48101082992838917, Recall: 0.5347038899035778\n",
      "\n",
      "Epoch 2/8, Loss: 11.812418457652841, Accuracy: 0.2509383296296037, Precision: 0.4809193774452384, Recall: 0.534478325260009\n",
      "\n",
      "Epoch 3/8, Loss: 11.817327013505357, Accuracy: 0.25681474158749784, Precision: 0.4838073032969937, Recall: 0.5376813679191217\n",
      "\n",
      "Epoch 4/8, Loss: 11.806347594197307, Accuracy: 0.25726398212584145, Precision: 0.48206065722346814, Recall: 0.5369708037580718\n",
      "\n",
      "Epoch 5/8, Loss: 11.877896932086774, Accuracy: 0.2503716447891837, Precision: 0.4795558827806888, Recall: 0.5346544658439307\n",
      "\n",
      "Epoch 6/8, Loss: 11.770206693559885, Accuracy: 0.25721944399695673, Precision: 0.4844973387877206, Recall: 0.5380147131211083\n",
      "\n",
      "Epoch 7/8, Loss: 11.800768625523363, Accuracy: 0.2595432520695669, Precision: 0.48363873224728804, Recall: 0.5390653456558088\n",
      "\n",
      "Epoch 8/8, Loss: 11.846377566722888, Accuracy: 0.25460816146030374, Precision: 0.48273291970696863, Recall: 0.5352879025731003\n",
      "Fold 2/5, Loss: 7.6108265455280035, Accuracy: 0.2568898031031576, Precision: 0.45477838529548603, Recall: 0.5022340817434462\n",
      "Fold 3/5\n",
      "\n",
      "Epoch 1/8, Loss: 11.555309988026108, Accuracy: 0.2603027706170322, Precision: 0.4854157340257284, Recall: 0.5370543308647691\n",
      "\n",
      "Epoch 2/8, Loss: 11.530800199934415, Accuracy: 0.2548218348029739, Precision: 0.483311923044851, Recall: 0.5355807453881026\n",
      "\n",
      "Epoch 3/8, Loss: 11.58720528068287, Accuracy: 0.2564812913499761, Precision: 0.48431223666383916, Recall: 0.5383445899240513\n",
      "\n",
      "Epoch 4/8, Loss: 11.496218680803265, Accuracy: 0.2503156846007222, Precision: 0.4789130663302873, Recall: 0.5336451113084798\n",
      "\n",
      "Epoch 5/8, Loss: 11.541694320206132, Accuracy: 0.256960974189841, Precision: 0.48491690185011177, Recall: 0.538257786651821\n",
      "\n",
      "Epoch 6/8, Loss: 11.563000976507153, Accuracy: 0.2543125369764266, Precision: 0.4807984805063011, Recall: 0.5355707137099882\n",
      "\n",
      "Epoch 7/8, Loss: 11.59020923929555, Accuracy: 0.2528991429574451, Precision: 0.4826263235491239, Recall: 0.5383928571428596\n",
      "\n",
      "Epoch 8/8, Loss: 11.567251042063747, Accuracy: 0.2570917343571385, Precision: 0.4836874077057344, Recall: 0.5371562471366166\n",
      "Fold 3/5, Loss: 8.047291758869376, Accuracy: 0.24423598786079492, Precision: 0.4573907711089916, Recall: 0.4920464481375501\n",
      "Fold 4/5\n",
      "\n",
      "Epoch 1/8, Loss: 11.636089814560753, Accuracy: 0.2575446155487514, Precision: 0.48287843786476153, Recall: 0.5375108434538932\n",
      "\n",
      "Epoch 2/8, Loss: 11.65992847563965, Accuracy: 0.25676580382560593, Precision: 0.4860520999822442, Recall: 0.5381042892871959\n",
      "\n",
      "Epoch 3/8, Loss: 11.648171026791845, Accuracy: 0.2526894683748926, Precision: 0.48113470684980425, Recall: 0.5348430716688166\n",
      "\n",
      "Epoch 4/8, Loss: 11.680953303618091, Accuracy: 0.2520646474596461, Precision: 0.48192153950732397, Recall: 0.5338202875466822\n",
      "\n",
      "Epoch 5/8, Loss: 11.631413526833057, Accuracy: 0.2520966135449303, Precision: 0.48233915004748673, Recall: 0.5357744481116894\n",
      "\n",
      "Epoch 6/8, Loss: 11.659125416938748, Accuracy: 0.2560267264849032, Precision: 0.4828569895814858, Recall: 0.5385556728907172\n",
      "\n",
      "Epoch 7/8, Loss: 11.693258320114442, Accuracy: 0.2514227206195045, Precision: 0.4808470846040644, Recall: 0.5371644173215424\n",
      "\n",
      "Epoch 8/8, Loss: 11.695932117956024, Accuracy: 0.2573960673947391, Precision: 0.4873229540123073, Recall: 0.5384815513865471\n",
      "Fold 4/5, Loss: 8.506743058562279, Accuracy: 0.24637431820145145, Precision: 0.45860801407847435, Recall: 0.5013474262790459\n",
      "Fold 5/5\n",
      "\n",
      "Epoch 1/8, Loss: 11.762275003961154, Accuracy: 0.2609115184326204, Precision: 0.48552767519564205, Recall: 0.5370316680483883\n",
      "\n",
      "Epoch 2/8, Loss: 11.765974558889866, Accuracy: 0.2630385772781655, Precision: 0.4845222667787928, Recall: 0.5384964825413581\n",
      "\n",
      "Epoch 3/8, Loss: 11.752990100000586, Accuracy: 0.2566218133375894, Precision: 0.4824931467918416, Recall: 0.5377094720390531\n",
      "\n",
      "Epoch 4/8, Loss: 11.729015971933093, Accuracy: 0.25650800911658905, Precision: 0.4833437111161582, Recall: 0.5361249700489331\n",
      "\n",
      "Epoch 5/8, Loss: 11.752027598608818, Accuracy: 0.25320713665281397, Precision: 0.4816606193539209, Recall: 0.5371825029685875\n",
      "\n",
      "Epoch 6/8, Loss: 11.72045646873968, Accuracy: 0.255136504762134, Precision: 0.4824291961682662, Recall: 0.5372633430304745\n",
      "\n",
      "Epoch 7/8, Loss: 11.845470932445355, Accuracy: 0.2516841245789295, Precision: 0.4820121087959523, Recall: 0.5318730585536099\n",
      "\n",
      "Epoch 8/8, Loss: 11.783829613987889, Accuracy: 0.25725754018662006, Precision: 0.48438589360518247, Recall: 0.5371116662970098\n",
      "Fold 5/5, Loss: 6.7168897699032515, Accuracy: 0.2395702098292291, Precision: 0.4151226818201842, Recall: 0.4760043610413636\n",
      "Average Loss: 101.01531802240231\n",
      "Average Accuracy: 2.291187209489496\n",
      "Average Precision: 4.311215550282926\n",
      "Average Recall: 4.79211107417503\n"
     ]
    }
   ],
   "source": [
    "# cross validation\n",
    "kf = KFold(n_splits=5)\n",
    "\n",
    "cv_losses = []\n",
    "cv_accuracies = []\n",
    "cv_precisions = []\n",
    "cv_recalls = []\n",
    "\n",
    "for fold, (train_idx, val_idx) in enumerate(kf.split(dataset)):\n",
    "    print(f'Fold {fold + 1}/{kf.n_splits}')\n",
    "    \n",
    "    train_subset = torch.utils.data.Subset(dataset, train_idx)\n",
    "    val_subset = torch.utils.data.Subset(dataset, val_idx)\n",
    "    \n",
    "    train_loader = DataLoader(train_subset, batch_size=batch_size, shuffle=True)\n",
    "    val_loader = DataLoader(val_subset, batch_size=batch_size, shuffle=False)\n",
    "    \n",
    "    model.to(device)\n",
    "    model.train()  \n",
    "\n",
    "    for epoch in range(num_epochs):\n",
    "        total_loss = 0\n",
    "        total_accuracy = 0\n",
    "        total_batches = 0\n",
    "        total_precision = 0\n",
    "        total_recall = 0\n",
    "\n",
    "        for batch in train_loader:\n",
    "            input_ids = batch['input_ids'].to(device)\n",
    "            attention_mask = batch['attention_mask'].to(device)\n",
    "            labels = batch['labels']\n",
    "            doc_idx = batch['doc_idx'].to(device)\n",
    "\n",
    "            optimizer.zero_grad()\n",
    "            outputs = model(input_ids, doc_idx, attention_mask)\n",
    "\n",
    "            loss = 0\n",
    "            for annotator, logits in outputs.items():\n",
    "                annotator_labels = labels[annotator].long().to(device)\n",
    "                mask = annotator_labels != -1\n",
    "                if mask.sum() > 0:\n",
    "                    masked_logits = logits[mask]\n",
    "                    masked_labels = annotator_labels[mask]\n",
    "\n",
    "                    criterion = criterion_dict[annotator]\n",
    "                    loss += criterion(masked_logits, masked_labels)\n",
    "\n",
    "                    predicted_labels = torch.argmax(masked_logits, dim=1)\n",
    "                    accuracy = accuracy_score(masked_labels.cpu().numpy(), predicted_labels.cpu().numpy())\n",
    "                    total_accuracy += accuracy\n",
    "\n",
    "                    precision = precision_score(masked_labels.cpu().numpy(), predicted_labels.cpu().numpy(), average='macro', zero_division=1)\n",
    "                    recall = recall_score(masked_labels.cpu().numpy(), predicted_labels.cpu().numpy(), average='macro', zero_division=1)\n",
    "                    total_precision += precision\n",
    "                    total_recall += recall\n",
    "\n",
    "                    total_batches += 1\n",
    "\n",
    "            loss.backward()\n",
    "            optimizer.step()\n",
    "            total_loss += loss.item()\n",
    "            \n",
    "        avg_accuracy = total_accuracy / total_batches\n",
    "        avg_loss = total_loss / len(train_loader)\n",
    "        avg_precision = total_precision / total_batches\n",
    "        avg_recall = total_recall / total_batches\n",
    "\n",
    "        cv_losses.append(avg_loss)\n",
    "        cv_accuracies.append(avg_accuracy)\n",
    "        cv_precisions.append(avg_precision)\n",
    "        cv_recalls.append(avg_recall)\n",
    "\n",
    "        print(\"\")\n",
    "        print(f'Epoch {epoch+1}/{num_epochs}, Loss: {avg_loss}, Accuracy: {avg_accuracy}, Precision: {avg_precision}, Recall: {avg_recall}')\n",
    "\n",
    "    model.eval()\n",
    "    val_loss = 0\n",
    "    val_accuracy = 0\n",
    "    val_batches = 0\n",
    "    val_precision = 0\n",
    "    val_recall = 0\n",
    "\n",
    "    with torch.no_grad(): \n",
    "        for batch in val_loader:\n",
    "            input_ids = batch['input_ids'].to(device)\n",
    "            attention_mask = batch['attention_mask'].to(device)\n",
    "            labels = batch['labels']\n",
    "            doc_idx = batch['doc_idx'].to(device)\n",
    "\n",
    "            outputs = model(input_ids, doc_idx, attention_mask)\n",
    "            batch_loss = 0\n",
    "\n",
    "            for annotator, logits in outputs.items():\n",
    "                annotator_labels = labels[annotator].long().to(device)\n",
    "                mask = annotator_labels != -1 \n",
    "                if mask.sum() > 0: \n",
    "                    masked_logits = logits[mask]\n",
    "                    masked_labels = annotator_labels[mask]\n",
    "                    \n",
    "                    criterion = criterion_dict[annotator]\n",
    "                    batch_loss += criterion(masked_logits, masked_labels)\n",
    "\n",
    "                    predicted_labels = torch.argmax(masked_logits, dim=1)\n",
    "                    accuracy = accuracy_score(masked_labels.cpu().numpy(), predicted_labels.cpu().numpy())\n",
    "                    val_accuracy += accuracy\n",
    "                    precision = precision_score(masked_labels.cpu().numpy(), predicted_labels.cpu().numpy(), average='macro', zero_division=1)\n",
    "                    recall = recall_score(masked_labels.cpu().numpy(), predicted_labels.cpu().numpy(), average='macro', zero_division=1)\n",
    "                    val_precision += precision\n",
    "                    val_recall += recall\n",
    "\n",
    "                    val_batches += 1\n",
    "\n",
    "            val_loss += batch_loss.item()\n",
    "\n",
    "    avg_val_accuracy = val_accuracy / val_batches\n",
    "    avg_val_loss = val_loss / len(val_loader)\n",
    "    avg_val_precision = val_precision / val_batches\n",
    "    avg_val_recall = val_recall / val_batches\n",
    "\n",
    "    cv_losses.append(avg_val_loss)\n",
    "    cv_accuracies.append(avg_val_accuracy)\n",
    "    cv_precisions.append(avg_val_precision)\n",
    "    cv_recalls.append(avg_val_recall)\n",
    "\n",
    "    print(f'Fold {fold + 1}/{kf.n_splits}, Loss: {avg_val_loss}, Accuracy: {avg_val_accuracy}, Precision: {avg_val_precision}, Recall: {avg_val_recall}')\n"
   ]
  },
  {
   "cell_type": "code",
   "execution_count": 45,
   "metadata": {},
   "outputs": [
    {
     "data": {
      "image/png": "[encoded data removed]",
      "text/plain": [
       "<Figure size 432x288 with 2 Axes>"
      ]
     },
     "metadata": {
      "needs_background": "light"
     },
     "output_type": "display_data"
    }
   ],
   "source": [
    "# Confusion Matrix on test data\n",
    "model.eval() \n",
    "all_true_labels = []\n",
    "all_pred_labels = []\n",
    "\n",
    "with torch.no_grad(): \n",
    "    for batch in val_loader:\n",
    "        input_ids = batch['input_ids'].to(device)\n",
    "        attention_mask = batch['attention_mask'].to(device)\n",
    "        labels = batch['labels']\n",
    "        doc_idx = batch['doc_idx'].to(device)\n",
    "\n",
    "        outputs = model(input_ids, doc_idx, attention_mask)\n",
    "\n",
    "        for annotator, logits in outputs.items():\n",
    "            annotator_labels = labels[annotator].long().to(device)\n",
    "            mask = annotator_labels != -1 \n",
    "            if mask.sum() > 0: \n",
    "                masked_logits = logits[mask]\n",
    "                masked_labels = annotator_labels[mask]\n",
    "                \n",
    "                predicted_labels = torch.argmax(masked_logits, dim=1)\n",
    "                \n",
    "                all_true_labels.extend(masked_labels.cpu().numpy())\n",
    "                all_pred_labels.extend(predicted_labels.cpu().numpy())\n",
    "\n",
    "cm = confusion_matrix(all_true_labels, all_pred_labels)\n",
    "disp = ConfusionMatrixDisplay(confusion_matrix=cm)\n",
    "disp.plot()\n",
    "plt.show()"
   ]
  },
  {
   "cell_type": "code",
   "execution_count": 54,
   "metadata": {},
   "outputs": [],
   "source": [
    "# binary\n",
    "train_losses = [6.327, 5.682, 5.286, 5.034, 4.817, 4.676, 4.528]\n",
    "train_accuracies = [0.635, 0.726, 0.770, 0.802, 0.824, 0.839, 0.855]\n",
    "\n",
    "# multi-class\n",
    "train_losses = [11.489, 11.437, 11.306, 11.156, 11.127, 11.183, 11.159,  11.162]\n",
    "train_accuracies = [0.276, 0.331, 0.378, 0.412, 0.427, 0.423, 0.417, 0.427]"
   ]
  },
  {
   "cell_type": "code",
   "execution_count": 55,
   "metadata": {
    "colab": {
     "base_uri": "https://localhost:8080/",
     "height": 488
    },
    "id": "W5KAjAsdlhWn",
    "outputId": "fe26096e-62d3-4e8c-9964-1d42bf4e2776"
   },
   "outputs": [
    {
     "data": {
      "image/png": "[encoded data removed]",
      "text/plain": [
       "<Figure size 864x360 with 2 Axes>"
      ]
     },
     "metadata": {
      "needs_background": "light"
     },
     "output_type": "display_data"
    }
   ],
   "source": [
    "plt.figure(figsize=(12, 5))\n",
    "\n",
    "plt.subplot(1, 2, 1)\n",
    "plt.plot(train_losses, label='Train Loss')\n",
    "plt.xlabel('Epoch')\n",
    "plt.ylabel('Loss')\n",
    "plt.title('Training Loss')\n",
    "plt.legend()\n",
    "\n",
    "plt.subplot(1, 2, 2)\n",
    "plt.plot(train_accuracies, label='Train Accuracy')\n",
    "plt.xlabel('Epoch')\n",
    "plt.ylabel('Accuracy')\n",
    "plt.title('Training Accuracy')\n",
    "plt.legend()\n",
    "\n",
    "plt.tight_layout()\n",
    "plt.savefig('training_plots.png', dpi=300)  \n",
    "plt.show()"
   ]
  },
  {
   "cell_type": "markdown",
   "metadata": {},
   "source": [
    "*Other code experimented with but not used in final implementation.*"
   ]
  },
  {
   "cell_type": "code",
   "execution_count": null,
   "metadata": {},
   "outputs": [],
   "source": [
    "class FocalLoss(nn.Module):\n",
    "    def __init__(self, alpha=None, gamma=2.0, reduction='mean'):\n",
    "        super(FocalLoss, self).__init__()\n",
    "        self.alpha = alpha\n",
    "        self.gamma = gamma\n",
    "        self.reduction = reduction\n",
    "\n",
    "    def forward(self, inputs, targets):\n",
    "        ce_loss = nn.CrossEntropyLoss(weight=self.alpha, reduction='none')(inputs, targets)\n",
    "        pt = torch.exp(-ce_loss)\n",
    "        focal_loss = ((1 - pt) ** self.gamma) * ce_loss\n",
    "\n",
    "        if self.reduction == 'mean':\n",
    "            return focal_loss.mean()\n",
    "        elif self.reduction == 'sum':\n",
    "            return focal_loss.sum()\n",
    "        else:\n",
    "            return focal_loss"
   ]
  }
 ],
 "metadata": {
  "accelerator": "GPU",
  "colab": {
   "gpuType": "T4",
   "provenance": []
  },
  "kernelspec": {
   "display_name": "Python 3 (ipykernel)",
   "language": "python",
   "name": "python3"
  },
  "language_info": {
   "codemirror_mode": {
    "name": "ipython",
    "version": 3
   },
   "file_extension": ".py",
   "mimetype": "text/x-python",
   "name": "python",
   "nbconvert_exporter": "python",
   "pygments_lexer": "ipython3",
   "version": "3.9.13"
  }
 },
 "nbformat": 4,
 "nbformat_minor": 4
}
