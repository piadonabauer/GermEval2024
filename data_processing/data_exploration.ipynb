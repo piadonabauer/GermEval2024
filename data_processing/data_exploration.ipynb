{
 "cells": [
  {
   "cell_type": "markdown",
   "id": "8f3178d4-92f0-4a55-b8a6-03e441beea52",
   "metadata": {},
   "source": [
    "# Exploration of Data \n",
    "\n",
    "This notebook covers the processing of the provided JSONL data into Pandas DataFrames. It also includes the calculation of corpus statistics, focusing on data point lengths, the distribution of labels across annotators, and the agreement levels among annotators."
   ]
  },
  {
   "cell_type": "markdown",
   "id": "0ef5be06-2fc1-4e0d-9e87-c23466832426",
   "metadata": {},
   "source": [
    "### Installation and import of libraries"
   ]
  },
  {
   "cell_type": "code",
   "execution_count": 1,
   "id": "79a76faf-f149-42c9-bb92-c10c45aaf481",
   "metadata": {},
   "outputs": [
    {
     "name": "stdout",
     "output_type": "stream",
     "text": [
      "\u001b[38;5;2m✔ Download and installation successful\u001b[0m\n",
      "You can now load the package via spacy.load('de_core_news_md')\n"
     ]
    }
   ],
   "source": [
    "!pip install transformers -q\n",
    "!pip install torch -q\n",
    "!pip install textblob -q\n",
    "!pip install spacy -q\n",
    "!pip install transformers[torch] -q\n",
    "!pip install accelerate -U -q\n",
    "!python -m spacy download de_core_news_md -q\n",
    "!pip install germansentiment -q"
   ]
  },
  {
   "cell_type": "code",
   "execution_count": 54,
   "id": "bec38300-1d87-4e1b-a07c-8451129691cb",
   "metadata": {},
   "outputs": [],
   "source": [
    "import json\n",
    "import numpy as np\n",
    "import pandas as pd\n",
    "import torch\n",
    "import torch.nn as nn\n",
    "import torch.nn.functional as F\n",
    "import spacy\n",
    "import matplotlib.pyplot as plt\n",
    "import seaborn as sns\n",
    "import nltk\n",
    "\n",
    "from torch.optim import Adam\n",
    "from torch.utils.data import DataLoader, Dataset\n",
    "from torch.utils.data.dataset import Dataset\n",
    "from sklearn.preprocessing import LabelEncoder\n",
    "from sklearn.model_selection import train_test_split\n",
    "from sklearn.metrics import accuracy_score, cohen_kappa_score\n",
    "from sklearn.model_selection import train_test_split\n",
    "from sklearn.feature_extraction.text import TfidfVectorizer\n",
    "from textblob import TextBlob\n",
    "from spacy.lang.de.examples import sentences\n",
    "from collections import Counter\n",
    "from nltk.corpus import stopwords\n",
    "from nltk.tokenize import word_tokenize\n",
    "from germansentiment import SentimentModel\n",
    "from scipy.cluster.hierarchy import linkage, dendrogram\n",
    "import matplotlib.pyplot as plt\n",
    "from statistics import mean, median"
   ]
  },
  {
   "cell_type": "code",
   "execution_count": 3,
   "id": "aef9d1c4-fec5-4541-88dd-8fc83bca058a",
   "metadata": {},
   "outputs": [
    {
     "name": "stderr",
     "output_type": "stream",
     "text": [
      "[nltk_data] Downloading package stopwords to /home/jovyan/nltk_data...\n",
      "[nltk_data]   Package stopwords is already up-to-date!\n",
      "[nltk_data] Downloading package punkt to /home/jovyan/nltk_data...\n",
      "[nltk_data]   Package punkt is already up-to-date!\n"
     ]
    }
   ],
   "source": [
    "spacy.load('de_core_news_md')\n",
    "nltk.download('stopwords')\n",
    "nltk.download('punkt')\n",
    "\n",
    "# 'A006' and 'A011' were removed by the organizers of GermEval2024\n",
    "ANNOTATOR_COLUMNS = ['A001', 'A002', 'A003', 'A004', 'A005', 'A007', 'A008', 'A009', 'A010', 'A012']"
   ]
  },
  {
   "cell_type": "markdown",
   "id": "e091953e-574c-499c-8b1e-4ca7daae4794",
   "metadata": {},
   "source": [
    "### Processing JSONL data into Pandas DataFrame"
   ]
  },
  {
   "cell_type": "code",
   "execution_count": 21,
   "id": "17d550f7-41a7-4a9e-babf-caa0249e708f",
   "metadata": {},
   "outputs": [],
   "source": [
    "class CreateDataFrame():\n",
    "    \"\"\"\n",
    "    A class used to create and process dataframes.\n",
    "    Data in JSONL format into Pandas DataFrame\n",
    "    \n",
    "    Args:\n",
    "        nlp: The spaCy language model for German text processing.\n",
    "        replace_dict (dic): Dictionary for replacing certain labels in the dataframe.\n",
    "        label_mapping (dic): Dictionary for mapping string labels to numeric labels.\n",
    "    \"\"\"\n",
    "    \n",
    "    def __init__(self):\n",
    "        self.nlp = spacy.load('de_core_news_md')\n",
    "        self.replace_dict = {0: -1, 1: 0, 2: 1, 3: 2, 4: 3} \n",
    "        self.label_mapping = {'0-Kein': 0, '1-Gering': 1, '2-Vorhanden': 2, '3-Stark': 3, '4-Extrem': 4}\n",
    "\n",
    "    def read_dataframe(self, path):\n",
    "        \"\"\"\n",
    "        Reads data from a JSONL file and returns it as a list of dictionaries.\n",
    "        \"\"\"\n",
    "        data = []\n",
    "        with open(path, 'r', encoding='utf-8') as file:\n",
    "            for line in file:\n",
    "                data.append(json.loads(line))\n",
    "        return data\n",
    "\n",
    "    def lemma(self, text):\n",
    "        \"\"\"\n",
    "        Lemmatizes the input text using spaCy and returns the processed text.\n",
    "        \"\"\"\n",
    "        doc = self.nlp(text)\n",
    "        result = ' '.join([token.text if token.is_punct else token.lemma_ for token in doc])\n",
    "        return result.lower()\n",
    "\n",
    "    def get_train_df(self, path):\n",
    "        \"\"\"\n",
    "        Creates and returns a training dataframe from the provided JSONL file.\n",
    "        \"\"\"\n",
    "        data = self.read_dataframe(path)\n",
    "        annotators = set()\n",
    "        \n",
    "        for item in data:\n",
    "            for annotation in item[\"annotations\"]:\n",
    "                annotators.add(annotation[\"user\"])\n",
    "\n",
    "        annotator_data = {annotator: [] for annotator in annotators}\n",
    "\n",
    "        for item in data:\n",
    "            text = item[\"text\"]\n",
    "            annotations_dict = {annotation[\"user\"]: annotation[\"label\"] for annotation in item[\"annotations\"]}\n",
    "            for annotator in annotators:\n",
    "                if annotator in annotations_dict:\n",
    "                    annotator_data[annotator].append(annotations_dict[annotator])\n",
    "                else:\n",
    "                    annotator_data[annotator].append(np.nan)\n",
    "\n",
    "        df = pd.DataFrame({\n",
    "            'text': [item[\"text\"] for item in data],\n",
    "            'id': [item[\"id\"] for item in data],\n",
    "            **annotator_data\n",
    "        })\n",
    "\n",
    "        for column in df.columns[1:]:\n",
    "            df[column] = df[column].replace(self.label_mapping)\n",
    "\n",
    "        relevant_columns = df.columns[1:]\n",
    "        df[relevant_columns] = df[relevant_columns].replace(np.nan, '-1')\n",
    "        df[ANNOTATOR_COLUMNS] = df[ANNOTATOR_COLUMNS].astype(int)\n",
    "\n",
    "        # option to apply lemmatization\n",
    "        # df['text'] = df['text'].apply(lambda x: self.lemma(x))\n",
    "        return df\n",
    "    \n",
    "    def get_test_df(self, path):\n",
    "        \"\"\"\n",
    "        Creates and returns a test dataframe from the provided JSONL file.\n",
    "        \"\"\"\n",
    "        data = self.read_dataframe(path)\n",
    "        df = pd.DataFrame(data)\n",
    "\n",
    "        # generating the TEST dataframe -> 1, if annotation exists, else 0\n",
    "        for annotator in ANNOTATOR_COLUMNS:\n",
    "            df[annotator] = [1 if annotator in annotators else 0 for annotators in df['annotators']]\n",
    "\n",
    "        df.drop('annotators', axis=1, inplace=True)\n",
    "        # option to apply lemmatization\n",
    "        # df['text'] = df['text'].apply(lambda x: self.lemma(x))\n",
    "        return df\n",
    "    \n",
    "    def only_sexist(self, df):\n",
    "        \"\"\"\n",
    "        Modifies the dataframe by removing the label 0, indicating the presence of sexism.\n",
    "        \"\"\"\n",
    "        df[ANNOTATOR_COLUMNS] = df[ANNOTATOR_COLUMNS].replace(self.replace_dict)\n",
    "        return df\n",
    "    \n",
    "    def only_binary(self, df):\n",
    "        \"\"\"\n",
    "        Converts multi-class labels to binary labels in the dataframe.\n",
    "        \"\"\"\n",
    "        df[annotator_columns] = df[annotator_columns].replace([2, 3, 4], 1)\n",
    "        return df"
   ]
  },
  {
   "cell_type": "code",
   "execution_count": null,
   "id": "e28e0ba8-7df8-4b4f-8564-e25280a8fc6a",
   "metadata": {},
   "outputs": [
    {
     "data": {
      "text/html": [
       "<div>\n",
       "<style scoped>\n",
       "    .dataframe tbody tr th:only-of-type {\n",
       "        vertical-align: middle;\n",
       "    }\n",
       "\n",
       "    .dataframe tbody tr th {\n",
       "        vertical-align: top;\n",
       "    }\n",
       "\n",
       "    .dataframe thead th {\n",
       "        text-align: right;\n",
       "    }\n",
       "</style>\n",
       "<table border=\"1\" class=\"dataframe\">\n",
       "  <thead>\n",
       "    <tr style=\"text-align: right;\">\n",
       "      <th></th>\n",
       "      <th>text</th>\n",
       "      <th>id</th>\n",
       "      <th>A003</th>\n",
       "      <th>A007</th>\n",
       "      <th>A012</th>\n",
       "      <th>A010</th>\n",
       "      <th>A002</th>\n",
       "      <th>A005</th>\n",
       "      <th>A008</th>\n",
       "      <th>A004</th>\n",
       "      <th>A001</th>\n",
       "      <th>A009</th>\n",
       "    </tr>\n",
       "  </thead>\n",
       "  <tbody>\n",
       "    <tr>\n",
       "      <th>0</th>\n",
       "      <td>Wen man nicht reinläßt, den muss man auch nich...</td>\n",
       "      <td>a733e8a47708ce1d77060266d365e5b5</td>\n",
       "      <td>0</td>\n",
       "      <td>0</td>\n",
       "      <td>0</td>\n",
       "      <td>0</td>\n",
       "      <td>0</td>\n",
       "      <td>0</td>\n",
       "      <td>0</td>\n",
       "      <td>0</td>\n",
       "      <td>0</td>\n",
       "      <td>0</td>\n",
       "    </tr>\n",
       "    <tr>\n",
       "      <th>1</th>\n",
       "      <td>Und eine Katze die schnurrt genügt Ihnen? \\nUn...</td>\n",
       "      <td>bf45fc2ac6742a7f75d5863c3338d59d</td>\n",
       "      <td>1</td>\n",
       "      <td>1</td>\n",
       "      <td>1</td>\n",
       "      <td>0</td>\n",
       "      <td>0</td>\n",
       "      <td>0</td>\n",
       "      <td>1</td>\n",
       "      <td>0</td>\n",
       "      <td>0</td>\n",
       "      <td>0</td>\n",
       "    </tr>\n",
       "  </tbody>\n",
       "</table>\n",
       "</div>"
      ],
      "text/plain": [
       "                                                text  \\\n",
       "0  Wen man nicht reinläßt, den muss man auch nich...   \n",
       "1  Und eine Katze die schnurrt genügt Ihnen? \\nUn...   \n",
       "\n",
       "                                 id  A003  A007  A012  A010  A002  A005  A008  \\\n",
       "0  a733e8a47708ce1d77060266d365e5b5     0     0     0     0     0     0     0   \n",
       "1  bf45fc2ac6742a7f75d5863c3338d59d     1     1     1     0     0     0     1   \n",
       "\n",
       "   A004  A001  A009  \n",
       "0     0     0     0  \n",
       "1     0     0     0  "
      ]
     },
     "execution_count": 14,
     "metadata": {},
     "output_type": "execute_result"
    }
   ],
   "source": [
    "df_train = CreateDataFrame().get_train_df(\"germeval-competition-traindev.jsonl\")\n",
    "df_train.head(2)\n",
    "#df.to_csv('df_competition.csv')"
   ]
  },
  {
   "cell_type": "code",
   "execution_count": 23,
   "id": "89042460-ee22-4ac5-ba83-f794d407949d",
   "metadata": {},
   "outputs": [
    {
     "data": {
      "text/html": [
       "<div>\n",
       "<style scoped>\n",
       "    .dataframe tbody tr th:only-of-type {\n",
       "        vertical-align: middle;\n",
       "    }\n",
       "\n",
       "    .dataframe tbody tr th {\n",
       "        vertical-align: top;\n",
       "    }\n",
       "\n",
       "    .dataframe thead th {\n",
       "        text-align: right;\n",
       "    }\n",
       "</style>\n",
       "<table border=\"1\" class=\"dataframe\">\n",
       "  <thead>\n",
       "    <tr style=\"text-align: right;\">\n",
       "      <th></th>\n",
       "      <th>id</th>\n",
       "      <th>text</th>\n",
       "      <th>A001</th>\n",
       "      <th>A002</th>\n",
       "      <th>A003</th>\n",
       "      <th>A004</th>\n",
       "      <th>A005</th>\n",
       "      <th>A007</th>\n",
       "      <th>A008</th>\n",
       "      <th>A009</th>\n",
       "      <th>A010</th>\n",
       "      <th>A012</th>\n",
       "    </tr>\n",
       "  </thead>\n",
       "  <tbody>\n",
       "    <tr>\n",
       "      <th>0</th>\n",
       "      <td>f3b81af2f6852bf1b9896629525d2f41</td>\n",
       "      <td>Ja, Frauen können krankhaft eifersüchtig werde...</td>\n",
       "      <td>1</td>\n",
       "      <td>1</td>\n",
       "      <td>1</td>\n",
       "      <td>1</td>\n",
       "      <td>1</td>\n",
       "      <td>1</td>\n",
       "      <td>1</td>\n",
       "      <td>1</td>\n",
       "      <td>1</td>\n",
       "      <td>1</td>\n",
       "    </tr>\n",
       "    <tr>\n",
       "      <th>1</th>\n",
       "      <td>cf8b8bac7165144bb62b399a98843366</td>\n",
       "      <td>Ich hau' auf jede Religion gern drauf, aber de...</td>\n",
       "      <td>1</td>\n",
       "      <td>1</td>\n",
       "      <td>1</td>\n",
       "      <td>1</td>\n",
       "      <td>1</td>\n",
       "      <td>1</td>\n",
       "      <td>1</td>\n",
       "      <td>1</td>\n",
       "      <td>1</td>\n",
       "      <td>1</td>\n",
       "    </tr>\n",
       "  </tbody>\n",
       "</table>\n",
       "</div>"
      ],
      "text/plain": [
       "                                 id  \\\n",
       "0  f3b81af2f6852bf1b9896629525d2f41   \n",
       "1  cf8b8bac7165144bb62b399a98843366   \n",
       "\n",
       "                                                text  A001  A002  A003  A004  \\\n",
       "0  Ja, Frauen können krankhaft eifersüchtig werde...     1     1     1     1   \n",
       "1  Ich hau' auf jede Religion gern drauf, aber de...     1     1     1     1   \n",
       "\n",
       "   A005  A007  A008  A009  A010  A012  \n",
       "0     1     1     1     1     1     1  \n",
       "1     1     1     1     1     1     1  "
      ]
     },
     "execution_count": 23,
     "metadata": {},
     "output_type": "execute_result"
    }
   ],
   "source": [
    "df_test = CreateDataFrame().get_test_df(\"germeval-competition-test.jsonl\")\n",
    "df_test.head(2)\n",
    "#df.to_csv('df_test.csv')\n",
    "# 1, if annotation exists (label unknown), else 0"
   ]
  },
  {
   "cell_type": "code",
   "execution_count": 1,
   "id": "06b0d9d2-9521-4417-8fce-c02fee9cf5bb",
   "metadata": {},
   "outputs": [
    {
     "data": {
      "text/plain": [
       "17913"
      ]
     },
     "execution_count": 1,
     "metadata": {},
     "output_type": "execute_result"
    }
   ],
   "source": [
    "import pandas as pd\n",
    "df = pd.read_csv('df_train_original.csv')\n",
    "len(df)"
   ]
  },
  {
   "cell_type": "markdown",
   "id": "05003463-0bc6-434b-b15e-9f38f66f2210",
   "metadata": {},
   "source": [
    "# Corpus Statistics\n",
    "Ideas: \n",
    "- amount of data points in data\n",
    "- avg length, min & max & median\n",
    "- number of annotations per class\n",
    "- number of annotations per annotator\n",
    "- number of classes per annotator\n",
    "- 20 most frequent words (without stopwords)\n",
    "- pronouns per class\n",
    "- ..."
   ]
  },
  {
   "cell_type": "code",
   "execution_count": 26,
   "id": "5d32e4ed-7125-408b-a1a5-624dd9d2f3b3",
   "metadata": {},
   "outputs": [],
   "source": [
    "# train dataframe\n",
    "df = pd.read_csv('df_competition.csv')\n",
    "df_test = pd.read_csv('df_test.csv')"
   ]
  },
  {
   "cell_type": "code",
   "execution_count": 27,
   "id": "f36b11eb-c0e6-4506-9cba-b6a608a64bfc",
   "metadata": {},
   "outputs": [
    {
     "name": "stdout",
     "output_type": "stream",
     "text": [
      "Length of training df: 5998\n",
      "Length of test df: 1986\n"
     ]
    }
   ],
   "source": [
    "# length\n",
    "print(f'Length of training df: {len(df)}')\n",
    "print(f'Length of test df: {len(df_test)}')"
   ]
  },
  {
   "cell_type": "markdown",
   "id": "504f5524-cc04-4708-81b6-43906efc7a94",
   "metadata": {},
   "source": [
    "Continue exploring training dataframe, as training will be adjusted accordingly."
   ]
  },
  {
   "cell_type": "code",
   "execution_count": 31,
   "id": "05898439-f4eb-4975-8371-eb436542ea12",
   "metadata": {},
   "outputs": [],
   "source": [
    "# calulate token length of data points to enable calculation of Avg, Min, Max, Median\n",
    "df['length'] = df['text'].apply(lambda x: len(x.split()))        "
   ]
  },
  {
   "cell_type": "code",
   "execution_count": 38,
   "id": "a83bf207-8ef3-4f09-8211-e79971aba6e6",
   "metadata": {},
   "outputs": [
    {
     "name": "stdout",
     "output_type": "stream",
     "text": [
      "Minimum number of tokens: 1 \n",
      "\n",
      "Spinner\n",
      "Oaschloch!\n",
      "Mädchen?\n",
      "Drecksgsindl\n",
      "Metoo\n",
      "Volltrottel!\n",
      "mimimi\n",
      "Fritten...Piefkesprech.\n",
      "Whataboutism\n",
      "Klugscheixxer\n",
      "Pussie\n",
      "Mimimi!!!\n",
      "V0llk0ff3r\n",
      "{URL}\n",
      "Koffer!\n",
      "Weiwa\n",
      "Trottel\n",
      "Oarschloch!\n",
      "Arschloch\n",
      "WEIBERHAUFN\n",
      "q.e.d.\n",
      "Frau?\n",
      "Nein.\n",
      "Vollkoffer\n",
      "Quotentussi?\n",
      "Milfborn?\n",
      "Einparkversuch?\n",
      "NAZI\n",
      "Laaaaaangweilig\n",
      "Incel\n",
      "Fußpilz\n",
      "Fut\n",
      "Uninteressant.\n",
      "Gaslightening??\n",
      "Mimimi....\n",
      "Mimimimimi....\n",
      "HÄSSLICH?\n",
      "Vollkoffer.\n",
      "Analsex.\n",
      "Primitiv!\n",
      "Danke!\n",
      "Nippel-Zerstörung....\n",
      "Grausig\n",
      "Lol\n",
      "Zyniker!\n",
      "preach.\n",
      "{USER}\n",
      "37:50\n",
      "Stutenbissigkeit!\n",
      "dierettenniggervormerfrieren###############\n",
      "Sekretärin?\n"
     ]
    }
   ],
   "source": [
    "# minimum length of data entries\n",
    "min_length = min(df[\"length\"])\n",
    "print(f'Minimum number of tokens: {min_length} \\n')\n",
    "\n",
    "for index, row in df.iterrows():\n",
    "    if row['length'] == min_length:\n",
    "        print(row['text'])"
   ]
  },
  {
   "cell_type": "code",
   "execution_count": 39,
   "id": "7e3ece80-9a1e-466d-b9cc-fa7ef7121e60",
   "metadata": {},
   "outputs": [
    {
     "name": "stdout",
     "output_type": "stream",
     "text": [
      "Maximum number of tokens: 173 \n",
      "\n",
      "**mit einem machen. Man denkt dann die eigenen Gefühle wären falsch, man sei dumm oder zu streng mit dem Partner usw. es ist wirklich schlimm, deshalb bitte ich um etwas Nachsicht von Ihnen für Menschen die sowas erleben mussten/müssen.\n",
      "Narzisten sind übel. War selber 10 Jahre mit einem liiert. Wollte schon nach 2 Jahren gehen, aber er manipulierte much derartig und setzte mir psychisch so derartig zu dass ich es lang nicht schaffte. Er redete mir ein, ich würde ihn nicht genug lieben und er täte doch alles für mich (nebenbei sagt er sobald ich den Mund öffnete „blabla“, lachte micv aus, stellte mich in der Öffentlichkeit bloß usw usw. er gan mir ständig das Gefühl dass ich ihn doch jzt nicht verlassen könne, jzt wo es ihm endlich besser geht und er ernsthaft an sich „arbeitete“).  Ich kann mich heute auch nicht mehr verstehen und auch warum ich nicht einfach gegangen bin. Dreimal war ich schon zur Tür raus, 3x wickelte er mich wdr ein. Ist schwer zu beschreiben was die **\n"
     ]
    }
   ],
   "source": [
    "# minimum length of data entries\n",
    "max_length = max(df[\"length\"])\n",
    "print(f'Maximum number of tokens: {max_length} \\n')\n",
    "\n",
    "for index, row in df.iterrows():\n",
    "    if row['length'] == max_length:\n",
    "        print(row['text'])"
   ]
  },
  {
   "cell_type": "code",
   "execution_count": 42,
   "id": "87db3ad0-4818-406e-a517-ceda35a0c9af",
   "metadata": {},
   "outputs": [
    {
     "name": "stdout",
     "output_type": "stream",
     "text": [
      "Median word length: 23.0\n",
      "Avg word length: 32.865621873957984\n"
     ]
    }
   ],
   "source": [
    "# median & avg\n",
    "median_length = df['length'].median()\n",
    "average_length = df['length'].mean()\n",
    "\n",
    "print(f'Median word length: {median_length}')\n",
    "print(f'Avg word length: {average_length}')"
   ]
  },
  {
   "cell_type": "code",
   "execution_count": 43,
   "id": "b10b5bbb-d234-495a-8cc6-168f32c39177",
   "metadata": {},
   "outputs": [],
   "source": [
    "df = df.drop('length', axis=1)"
   ]
  },
  {
   "cell_type": "markdown",
   "id": "2f22c101-c3e3-47e7-8297-f06174b9414e",
   "metadata": {},
   "source": [
    "### Distributions"
   ]
  },
  {
   "cell_type": "code",
   "execution_count": 44,
   "id": "dcae9417-fc3f-4e9f-a6ec-603e63dabc43",
   "metadata": {},
   "outputs": [
    {
     "name": "stderr",
     "output_type": "stream",
     "text": [
      "No artists with labels found to put in legend.  Note that artists whose label start with an underscore are ignored when legend() is called with no argument.\n"
     ]
    },
    {
     "data": {
      "image/png": "[encoded data removed]",
      "text/plain": [
       "<Figure size 720x432 with 1 Axes>"
      ]
     },
     "metadata": {
      "needs_background": "light"
     },
     "output_type": "display_data"
    }
   ],
   "source": [
    "# count annotations per label\n",
    "class_counts = df[ANNOTATOR_COLUMNS].stack().value_counts()\n",
    "\n",
    "fig1 = plt.figure(figsize=(10, 6))\n",
    "\n",
    "plt.bar(class_counts.index, class_counts.values)\n",
    "plt.xlabel('Label', fontsize=20)\n",
    "plt.ylabel('Number of Annotations', fontsize=20)\n",
    "plt.title('Distribution of Annotations over Labels', fontsize=22)\n",
    "plt.legend(fontsize=18)\n",
    "plt.yticks(fontsize=18)\n",
    "plt.tight_layout()\n",
    "plt.xticks([0, 1, 2, 3, 4], fontsize=18)\n",
    "plt.show()\n",
    "\n",
    "#fig1.savefig('distr_over_annos.png', dpi=100)"
   ]
  },
  {
   "cell_type": "markdown",
   "id": "7c1dbdc1-7183-4ca7-bac3-015580e9e2b5",
   "metadata": {},
   "source": [
    "The most left bar depicts the number of labels missing, as not every annotator labels any data point."
   ]
  },
  {
   "cell_type": "code",
   "execution_count": 49,
   "id": "b95925b2-2ffc-46cb-bdb7-31a9cd54878b",
   "metadata": {},
   "outputs": [
    {
     "name": "stdout",
     "output_type": "stream",
     "text": [
      "Number of labels: \n",
      "-1    30810\n",
      " 0    19237\n",
      " 2     4394\n",
      " 3     2821\n",
      " 1     2084\n",
      " 4      634\n",
      "dtype: int64\n"
     ]
    }
   ],
   "source": [
    "print(f'Number of labels: \\n{class_counts}')"
   ]
  },
  {
   "cell_type": "code",
   "execution_count": 50,
   "id": "b9b3012d-b3ea-4f02-b44d-eae996efcd7f",
   "metadata": {},
   "outputs": [
    {
     "name": "stdout",
     "output_type": "stream",
     "text": [
      "Percentage of labels: \n",
      "0    65.947892\n",
      "2    15.063421\n",
      "3     9.670895\n",
      "1     7.144326\n",
      "4     2.173466\n",
      "dtype: float64\n"
     ]
    }
   ],
   "source": [
    "class_counts_filtered = class_counts.drop(labels=-1)\n",
    "total_counts = class_counts_filtered.sum()\n",
    "class_percentages = (class_counts_filtered / total_counts) * 100\n",
    "print(f'Percentage of labels: \\n{class_percentages}')"
   ]
  },
  {
   "cell_type": "code",
   "execution_count": 51,
   "id": "b3090829-72df-4c15-9b9c-834e997e8f8c",
   "metadata": {},
   "outputs": [],
   "source": [
    "df = df.drop('Unnamed: 0', axis=1)"
   ]
  },
  {
   "cell_type": "code",
   "execution_count": 52,
   "id": "6011e949-db6f-4c5c-878e-e1c03a774bfb",
   "metadata": {},
   "outputs": [
    {
     "data": {
      "image/png": "[encoded data removed]",
      "text/plain": [
       "<Figure size 720x432 with 1 Axes>"
      ]
     },
     "metadata": {
      "needs_background": "light"
     },
     "output_type": "display_data"
    },
    {
     "data": {
      "text/plain": [
       "<Figure size 432x288 with 0 Axes>"
      ]
     },
     "metadata": {},
     "output_type": "display_data"
    }
   ],
   "source": [
    "# Count the number of classes per annotator\n",
    "class_counts_per_annotator = df.iloc[:, 1:].apply(lambda x: x.value_counts()).T\n",
    "class_counts_per_annotator = class_counts_per_annotator.reindex(ANNOTATOR_COLUMNS)\n",
    "\n",
    "fig1 = plt.figure(figsize=(10, 6)) \n",
    "\n",
    "plt.bar(class_counts_per_annotator.index, class_counts_per_annotator[0], label='Class 0')\n",
    "plt.bar(class_counts_per_annotator.index, class_counts_per_annotator[1], bottom=class_counts_per_annotator[0], label='Class 1')\n",
    "plt.bar(class_counts_per_annotator.index, class_counts_per_annotator[2], bottom=class_counts_per_annotator[0] + class_counts_per_annotator[1], label='Class 2')\n",
    "plt.bar(class_counts_per_annotator.index, class_counts_per_annotator[3], bottom=class_counts_per_annotator[0] + class_counts_per_annotator[1] + class_counts_per_annotator[2], label='Class 3')\n",
    "plt.bar(class_counts_per_annotator.index, class_counts_per_annotator[4], bottom=class_counts_per_annotator[0] + class_counts_per_annotator[1] + class_counts_per_annotator[2] + class_counts_per_annotator[3], label='Class 4')\n",
    "\n",
    "plt.xlabel('Annotator', fontsize=20)\n",
    "plt.ylabel('Number of Labels', fontsize=20)\n",
    "plt.title('Number of Labels per Annotator', fontsize=22)\n",
    "plt.legend(fontsize=18)\n",
    "plt.xticks(rotation=45, fontsize=18)\n",
    "plt.yticks(fontsize=19)\n",
    "plt.tight_layout()\n",
    "\n",
    "plt.show()\n",
    "plt.draw()\n",
    "\n",
    "#fig1.savefig('distr_over_labels.png', dpi=100)"
   ]
  },
  {
   "cell_type": "markdown",
   "id": "655132f0-f7fc-4a10-a149-5d36cf93224e",
   "metadata": {},
   "source": [
    "### Most frequent words"
   ]
  },
  {
   "cell_type": "code",
   "execution_count": 53,
   "id": "d751617b-40c9-4ecc-8801-a5d4eb49b442",
   "metadata": {},
   "outputs": [
    {
     "name": "stdout",
     "output_type": "stream",
     "text": [
      "[('frauen', 1591), ('ja', 865), ('frau', 857), ('männer', 812), ('schon', 674), ('mehr', 649), ('immer', 479), ('mal', 438), ('mann', 423), ('gibt', 404), ('einfach', 359), ('halt', 328), ('geht', 324), ('ganz', 300), ('gut', 285), ('warum', 272), ('user', 271), ('wäre', 269), ('natürlich', 232), ('beim', 228), ('viele', 218), ('wohl', 208), ('eh', 205), ('gar', 205), ('männern', 201), ('müssen', 200), ('leben', 197), ('wirklich', 197), ('kinder', 193), ('genau', 189), ('wer', 188), ('menschen', 182), ('kommt', 181), ('tun', 177), ('eher', 172), ('bitte', 169), ('vielleicht', 167), ('macht', 163), ('eben', 161), ('eigentlich', 158)]\n"
     ]
    }
   ],
   "source": [
    "# print most frequent words excluding stopwords\n",
    "german_stop_words = set(stopwords.words('german'))\n",
    "\n",
    "def count_words(text):\n",
    "    words = word_tokenize(text.lower())  \n",
    "    cleaned_words = [word for word in words if word.isalpha() and word not in german_stop_words]\n",
    "    return Counter(cleaned_words)\n",
    "\n",
    "word_counts = df['text'].apply(count_words).sum()\n",
    "\n",
    "most_common_words = word_counts.most_common(40)\n",
    "print(most_common_words)"
   ]
  },
  {
   "cell_type": "markdown",
   "id": "eb7865ee-24ec-41e3-b0af-a381b1f85096",
   "metadata": {},
   "source": [
    "### Length\n",
    "Investigate if there is a trend in data point length depending on label."
   ]
  },
  {
   "cell_type": "code",
   "execution_count": 61,
   "id": "5de60815-8ee2-478e-9f7a-c811ba879978",
   "metadata": {},
   "outputs": [],
   "source": [
    "def print_middles(i,number_list):\n",
    "    average = mean(number_list)\n",
    "    median_value = median(number_list)\n",
    "    print(f'Class {i} - Avg: {average}, Median: {median_value}')"
   ]
  },
  {
   "cell_type": "code",
   "execution_count": 56,
   "id": "abaa2160-7764-46c0-9e43-37c6259f506b",
   "metadata": {},
   "outputs": [],
   "source": [
    "df['text_length'] = df['text'].apply(lambda x: len(x.split()))"
   ]
  },
  {
   "cell_type": "code",
   "execution_count": 57,
   "id": "686ad402-7052-41fb-89e1-7fe0c18b2add",
   "metadata": {},
   "outputs": [],
   "source": [
    "lengths = {0: [], 1: [], 2: [], 3: [], 4: []}\n",
    "\n",
    "for index, row in df.iterrows():\n",
    "    for label in lengths.keys():\n",
    "        lengths[label].extend([row['text_length']] * sum(row[ANNOTATOR_COLUMNS] == label))\n",
    "\n",
    "l0, l1, l2, l3, l4 = lengths[0], lengths[1], lengths[2], lengths[3], lengths[4]"
   ]
  },
  {
   "cell_type": "code",
   "execution_count": 62,
   "id": "526ab7e6-f01f-46e1-964b-98d6d9ca98cb",
   "metadata": {},
   "outputs": [
    {
     "name": "stdout",
     "output_type": "stream",
     "text": [
      "Class 0 - Avg: 31.701356760409627, Median: 21\n",
      "Class 1 - Avg: 37.63483685220729, Median: 27.0\n",
      "Class 2 - Avg: 34.106053709604005, Median: 24.0\n",
      "Class 3 - Avg: 32.436724565756826, Median: 23\n",
      "Class 4 - Avg: 29.4211356466877, Median: 20.0\n"
     ]
    }
   ],
   "source": [
    "lengths = [l0, l1, l2, l3, l4]\n",
    "for i, l in enumerate(lengths):\n",
    "    print_middles(i,l)"
   ]
  },
  {
   "cell_type": "markdown",
   "id": "925538b3-9dcc-45bb-bb43-a0400c3ba794",
   "metadata": {},
   "source": [
    "Assumption that length as feature may enhance classification of sexist comments (classes 1 to 4)."
   ]
  },
  {
   "cell_type": "markdown",
   "id": "c5ad7589-871e-4f18-bde5-6c405bdc3724",
   "metadata": {},
   "source": [
    "### Sentiment\n",
    "Check if there is a trend in sentiment labels of comments according to labeled class."
   ]
  },
  {
   "cell_type": "code",
   "execution_count": 63,
   "id": "07a67c8e-1348-45a1-94b6-199545b80ef0",
   "metadata": {},
   "outputs": [],
   "source": [
    "model = SentimentModel()"
   ]
  },
  {
   "cell_type": "code",
   "execution_count": 64,
   "id": "e951bf58-9b76-4eba-aca4-11374a54b6fa",
   "metadata": {},
   "outputs": [],
   "source": [
    "df['sentiment'] = df['text'].apply(lambda x: model.predict_sentiment([x])[0])"
   ]
  },
  {
   "cell_type": "code",
   "execution_count": 73,
   "id": "b2ee92c9-9760-4bfe-95b7-c2fd2430e591",
   "metadata": {},
   "outputs": [],
   "source": [
    "def print_sentiment(i, word_list):\n",
    "    word_counts = Counter(word_list)\n",
    "    total_words = sum(word_counts.values())\n",
    "\n",
    "    percentage_positive = (word_counts['positive'] / total_words) * 100\n",
    "    percentage_neutral = (word_counts['neutral'] / total_words) * 100\n",
    "    percentage_negative = (word_counts['negative'] / total_words) * 100\n",
    "\n",
    "    print(f'Class {i}:')\n",
    "    print(f'Positive: {percentage_positive:.2f}%, Neutral: {percentage_neutral:.2f}%, Negative: {percentage_negative:.2f}%')"
   ]
  },
  {
   "cell_type": "code",
   "execution_count": 66,
   "id": "286b4e4f-6cb4-4193-af29-cafd2b727123",
   "metadata": {},
   "outputs": [],
   "source": [
    "s_lists = [[] for _ in range(5)]\n",
    "\n",
    "for index, row in df.iterrows():\n",
    "    for i in range(5):\n",
    "        s_lists[i].extend([row['sentiment']] * sum(row[ANNOTATOR_COLUMNS] == i))"
   ]
  },
  {
   "cell_type": "code",
   "execution_count": 74,
   "id": "2f55337e-cbea-45cd-b2e7-cf05ef42467e",
   "metadata": {},
   "outputs": [
    {
     "name": "stdout",
     "output_type": "stream",
     "text": [
      "Class 0:\n",
      "Positive: 5.83%, Neutral: 49.48%, Negative: 44.70%\n",
      "Class 1:\n",
      "Positive: 5.85%, Neutral: 48.22%, Negative: 45.92%\n",
      "Class 2:\n",
      "Positive: 5.96%, Neutral: 49.11%, Negative: 44.92%\n",
      "Class 3:\n",
      "Positive: 5.32%, Neutral: 49.81%, Negative: 44.88%\n",
      "Class 4:\n",
      "Positive: 5.68%, Neutral: 48.90%, Negative: 45.43%\n"
     ]
    }
   ],
   "source": [
    "for i, s in enumerate(s_lists):\n",
    "    print_sentiment(i, s)"
   ]
  },
  {
   "cell_type": "markdown",
   "id": "569de217-7bd3-4ca5-874d-fefd5fb0368c",
   "metadata": {},
   "source": [
    "No trend can be seen."
   ]
  },
  {
   "cell_type": "markdown",
   "id": "f78edec3-4bac-4ffc-9ef4-dfb9dbd5c720",
   "metadata": {},
   "source": [
    "## Word lists with specific sexist words\n",
    "\n",
    "List of sexist terms generated via Prompt Engineering with ChatGPT 3.5."
   ]
  },
  {
   "cell_type": "code",
   "execution_count": 76,
   "id": "b9827b40-b5e6-4cc6-b148-877aac5471e7",
   "metadata": {},
   "outputs": [],
   "source": [
    "sexist_terms = [\n",
    "    \"Schlampe\",\n",
    "    \"Hure\",\n",
    "    \"Zicke\",\n",
    "    \"Weib\",\n",
    "    \"Tussi\",\n",
    "    \"Alte\",\n",
    "    \"Tunte\",\n",
    "    \"Miststück\",\n",
    "    \"Flittchen\",\n",
    "    \"Fräulein\",\n",
    "    \"Luder\",\n",
    "    \"Hysterisch\",\n",
    "    \"Weiber\",\n",
    "    \"Weiberheld\",\n",
    "    \"Weiberwirtschaft\",\n",
    "    \"Weibsvolk\",\n",
    "    \"Weibsbild\",\n",
    "    \"Männersache\",\n",
    "    \"Mannweib\",\n",
    "    \"Männerberuf\",\n",
    "    \"Mannsweib\",\n",
    "    \"Weiberkram\",\n",
    "    \"Weiberfastnacht\",\n",
    "    \"Weiberfeind\",\n",
    "    \"Weibergerät\",\n",
    "    \"Weiberhaushalt\",\n",
    "    \"Weiberknecht\",\n",
    "    \"Weiberkram\",\n",
    "    \"Weiberkunde\",\n",
    "    \"Weiberregiment\",\n",
    "    \"Weibertreu\",\n",
    "    \"Weiberzahn\",\n",
    "    \"Weiberzeit\",\n",
    "    \"Weibergeschrei\",\n",
    "    \"Weibergestalt\",\n",
    "    \"Weiberherrschaft\",\n",
    "    \"Weibergeschlecht\",\n",
    "    \"Weiberhof\",\n",
    "    \"Weiblichkeit\",\n",
    "    \"Weibchen\",\n",
    "    \"Weibervolk\",\n",
    "    \"Weibsvolk\",\n",
    "    \"Weibsbild\",\n",
    "    \"Weiberwirtschaft\",\n",
    "    \"Weiberfeindlich\",\n",
    "    \"Weiberarbeit\",\n",
    "    \"Weiberklatsch\",\n",
    "    \"Weiberkram\",\n",
    "    \"Weibermacht\",\n",
    "    \"Weiberwitz\",\n",
    "    \"Weiberheld\",\n",
    "    \"Weiberregiment\",\n",
    "    \"Weiberwirtschaft\",\n",
    "]"
   ]
  },
  {
   "cell_type": "code",
   "execution_count": 82,
   "id": "d09ecd7e-824f-4e9e-a922-d4eb485078f5",
   "metadata": {},
   "outputs": [
    {
     "name": "stdout",
     "output_type": "stream",
     "text": [
      "Amount of sexist terms: Counter({'alte': 64, 'weiber': 27, 'tussi': 9, 'weibchen': 9, 'fräulein': 8, 'weiblichkeit': 8, 'weib': 6, 'hysterisch': 4, 'männersache': 2, 'männerberuf': 2, 'luder': 2, 'hure': 1, 'weibsvolk': 1, 'weibsbild': 1, 'schlampe': 1, 'mannweib': 1, 'zicke': 1}) \n",
      "\n",
      "Amount in percent: {'alte': 0.027649849221915962, 'weiber': 0.011664780140495797, 'hure': 0.0004320288940924369, 'weibsvolk': 0.0004320288940924369, 'fräulein': 0.0034562311527394952, 'weib': 0.0025921733645546214, 'weibsbild': 0.0004320288940924369, 'tussi': 0.0038882600468319317, 'männersache': 0.0008640577881848738, 'männerberuf': 0.0008640577881848738, 'schlampe': 0.0004320288940924369, 'weibchen': 0.0038882600468319317, 'mannweib': 0.0004320288940924369, 'weiblichkeit': 0.0034562311527394952, 'hysterisch': 0.0017281155763697476, 'luder': 0.0008640577881848738, 'zicke': 0.0004320288940924369}\n"
     ]
    }
   ],
   "source": [
    "tokenized_texts = [word_tokenize(text.lower()) for text in df['text']]\n",
    "sexist_terms = [term.lower() for term in sexist_terms]\n",
    "\n",
    "counts = Counter()\n",
    "for tokens in tokenized_texts:\n",
    "    for token in tokens:\n",
    "        if token in sexist_terms:\n",
    "            counts[token] += 1\n",
    "\n",
    "total_words = sum(sum(1 for w in sentence) for sentence in tokenized_texts)\n",
    "percent = {wort: (counts[wort] / total_words * 100) for wort in counts}\n",
    "\n",
    "print(f'Amount of sexist terms: {counts} \\n')\n",
    "print(f'Amount in percent: {percent}')"
   ]
  },
  {
   "cell_type": "markdown",
   "id": "16c9d4fd-6f18-4fc1-8be8-2ebbcf8c032a",
   "metadata": {},
   "source": [
    "## Agreement\n",
    "\n",
    "Idea to aggregate different annotators into clusters to enhance data for training. Hence check for alignment."
   ]
  },
  {
   "cell_type": "code",
   "execution_count": 83,
   "id": "0d65b531-7214-45be-83d5-7b04dacdec45",
   "metadata": {},
   "outputs": [
    {
     "name": "stdout",
     "output_type": "stream",
     "text": [
      "Matrix of Agreement (Cohen's Kappa):\n",
      "          A001      A002      A003      A004      A005      A007      A008  \\\n",
      "A001  1.000000  0.429713  0.422051  0.448889  0.529607  0.420590  0.447944   \n",
      "A002  0.429713  1.000000  0.332061  0.325111  0.354783  0.352464  0.375490   \n",
      "A003  0.422051  0.332061  1.000000  0.408076  0.426093  0.477486  0.421704   \n",
      "A004  0.448889  0.325111  0.408076  1.000000  0.415506  0.522643  0.351474   \n",
      "A005  0.529607  0.354783  0.426093  0.415506  1.000000  0.439707  0.283617   \n",
      "A007  0.420590  0.352464  0.477486  0.522643  0.439707  1.000000  0.456751   \n",
      "A008  0.447944  0.375490  0.421704  0.351474  0.283617  0.456751  1.000000   \n",
      "A009  0.392809  0.378107  0.422170  0.364013  0.336985  0.368144  0.389163   \n",
      "A010  0.440005  0.337634  0.461145  0.402902  0.387369  0.503045  0.391830   \n",
      "A012  0.441144  0.339764  0.402383  0.348357  0.399289  0.423094  0.336032   \n",
      "\n",
      "          A009      A010      A012  \n",
      "A001  0.392809  0.440005  0.441144  \n",
      "A002  0.378107  0.337634  0.339764  \n",
      "A003  0.422170  0.461145  0.402383  \n",
      "A004  0.364013  0.402902  0.348357  \n",
      "A005  0.336985  0.387369  0.399289  \n",
      "A007  0.368144  0.503045  0.423094  \n",
      "A008  0.389163  0.391830  0.336032  \n",
      "A009  1.000000  0.293935  0.322873  \n",
      "A010  0.293935  1.000000  0.377347  \n",
      "A012  0.322873  0.377347  1.000000  \n"
     ]
    },
    {
     "data": {
      "image/png": "[encoded data removed]",
      "text/plain": [
       "<Figure size 720x504 with 2 Axes>"
      ]
     },
     "metadata": {
      "needs_background": "light"
     },
     "output_type": "display_data"
    }
   ],
   "source": [
    "kappa_matrix = np.zeros((len(ANNOTATOR_COLUMNS), len(ANNOTATOR_COLUMNS)))\n",
    "\n",
    "for i, annotator1 in enumerate(ANNOTATOR_COLUMNS):\n",
    "    for j, annotator2 in enumerate(ANNOTATOR_COLUMNS):\n",
    "        if i < j:\n",
    "            # only data points for which labels of both annotators exist\n",
    "            valid_idx = (df[annotator1] != -1) & (df[annotator2] != -1)\n",
    "            if valid_idx.sum() > 0:\n",
    "                kappa = cohen_kappa_score(df.loc[valid_idx, annotator1], df.loc[valid_idx, annotator2])\n",
    "                kappa_matrix[i, j] = kappa\n",
    "                kappa_matrix[j, i] = kappa\n",
    "\n",
    "np.fill_diagonal(kappa_matrix, 1)\n",
    "\n",
    "kappa_df = pd.DataFrame(kappa_matrix, index=ANNOTATOR_COLUMNS, columns=ANNOTATOR_COLUMNS)\n",
    "print(\"Matrix of Agreement (Cohen's Kappa):\")\n",
    "print(kappa_df)\n",
    "\n",
    "plt.figure(figsize=(10, 7))\n",
    "plt.imshow(kappa_df, cmap='viridis', interpolation='nearest')\n",
    "\n",
    "cbar = plt.colorbar()\n",
    "cbar.set_label(\"Cohen's Kappa\", fontsize=18)\n",
    "cbar.ax.tick_params(labelsize=14) \n",
    "plt.xticks(range(len(ANNOTATOR_COLUMNS)), ANNOTATOR_COLUMNS, rotation=90, fontsize=18)\n",
    "plt.yticks(range(len(ANNOTATOR_COLUMNS)), ANNOTATOR_COLUMNS, fontsize=18)\n",
    "plt.title(\"Cohen's Kappa Matrix of Agreement\", fontsize=22)\n",
    "plt.show()\n",
    "#plt.savefig('cohen_kappa_matrix.png')"
   ]
  },
  {
   "cell_type": "markdown",
   "id": "f10c8000-36b5-4237-8424-21fbf121ea0a",
   "metadata": {},
   "source": [
    "Too little agreement (<0.529)."
   ]
  }
 ],
 "metadata": {
  "kernelspec": {
   "display_name": "Python 3 (ipykernel)",
   "language": "python",
   "name": "python3"
  },
  "language_info": {
   "codemirror_mode": {
    "name": "ipython",
    "version": 3
   },
   "file_extension": ".py",
   "mimetype": "text/x-python",
   "name": "python",
   "nbconvert_exporter": "python",
   "pygments_lexer": "ipython3",
   "version": "3.9.13"
  }
 },
 "nbformat": 4,
 "nbformat_minor": 5
}
