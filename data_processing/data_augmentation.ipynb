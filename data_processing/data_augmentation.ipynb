{
 "cells": [
  {
   "cell_type": "markdown",
   "id": "215de651-8094-4ee0-901c-d274974ceb06",
   "metadata": {},
   "source": [
    "# Data Augmentation\n",
    "\n",
    "This notebook covers the augmentation of the training data with techniques including:\n",
    "\n",
    "- **Back Translation**: Use translators to transform a sentence. First, a sentence in original language is translated into a second language (in this notebook english) and then translated back into the original language. Note: In case of duplicates entries in the data after translating they were removed.\n",
    "\n",
    "- **Synyonm Replacement**: Replacement of tokens in the original input sequence with synonyms. For each word in the corpus, a list of synonyms is created by considering word2vec distance. This list is filtered regarding the original POS tag."
   ]
  },
  {
   "cell_type": "code",
   "execution_count": 1,
   "id": "2030c93d-10eb-4dcb-95f8-2cb758299e17",
   "metadata": {},
   "outputs": [],
   "source": [
    "!pip install transformers[sentencepiece] -q\n",
    "!pip install sentencepiece -q\n",
    "!pip install \"transformers[sentencepiece]\" -q\n",
    "!pip install gensim -q\n",
    "\n",
    "import pandas as pd\n",
    "from transformers import pipeline\n",
    "from gensim.models.keyedvectors import KeyedVectors"
   ]
  },
  {
   "cell_type": "code",
   "execution_count": 10,
   "id": "37f85d9a-eca0-467e-90e1-9d64cf8e1532",
   "metadata": {},
   "outputs": [],
   "source": [
    "# read training df\n",
    "df_train = pd.read_csv('df_competition.csv')\n",
    "ANNOTATOR_COLUMNS = ['A001', 'A002', 'A003', 'A004', 'A005', 'A007', 'A008', 'A009', 'A010', 'A012']"
   ]
  },
  {
   "cell_type": "markdown",
   "id": "4e400cdf-9162-4d28-ba35-b24fde49da71",
   "metadata": {},
   "source": [
    "### Synonym Replacement\n",
    "\n",
    "Word vectors for German language obtained from [fasttext](https://fasttext.cc/docs/en/crawl-vectors.html). Due to capacity constraints, the use was limited to 2,000,000 vectors. Specific words like 'woman', 'women', 'man', and 'men' were retained without replacement, as altering them would significantly change the meaning of the comments. This decision was made to maintain the relevance of the vectors to the topic of sexism and misogyny."
   ]
  },
  {
   "cell_type": "code",
   "execution_count": 2,
   "id": "fc55b708-fea1-4d82-81e7-036812726e89",
   "metadata": {},
   "outputs": [],
   "source": [
    "vecs = KeyedVectors.load_word2vec_format('cc.de.300.vec', limit=2000000)"
   ]
  },
  {
   "cell_type": "code",
   "execution_count": 3,
   "id": "1039a197-1262-4de2-b551-558e216d02c5",
   "metadata": {},
   "outputs": [],
   "source": [
    "def replace_with_synonym(word, vecs, num_synonyms=1):\n",
    "    \"\"\"\n",
    "    Replaces the given word with its most similar synonym from word embeddings.\n",
    "    \"\"\"\n",
    "    if word.lower() in ['frau', 'mann', 'männer', 'frauen']:\n",
    "        return word\n",
    "    try: \n",
    "        synonyms = vecs.most_similar(word, topn=num_synonyms)\n",
    "        if synonyms:\n",
    "            return synonyms[0][0]\n",
    "        else:\n",
    "            return word\n",
    "    except: \n",
    "        return word\n",
    "    \n",
    "def synonym_replacement(text, vecs, num_synonyms=1):\n",
    "    words = text.split()\n",
    "    replaced_words = [replace_with_synonym(word, vecs, num_synonyms) for word in words]\n",
    "    return ' '.join(replaced_words)"
   ]
  },
  {
   "cell_type": "code",
   "execution_count": 9,
   "id": "c10d47ca-54c0-4876-9105-10b16064ceac",
   "metadata": {},
   "outputs": [
    {
     "name": "stdout",
     "output_type": "stream",
     "text": [
      "Das schöne Gesicht der Frauenquote\n",
      "\n",
      ".Das wunderschöne Antlitz die Frauenquoten\n"
     ]
    }
   ],
   "source": [
    "# EXAMPLE / TESTING\n",
    "\n",
    "text = df_train['text'][27]\n",
    "print(text + '\\n')\n",
    "replaced_text = synonym_replacement(text, vecs)\n",
    "print(replaced_text)"
   ]
  },
  {
   "cell_type": "code",
   "execution_count": 24,
   "id": "4098f2d1-6cdd-47c9-925a-9a554134fdb1",
   "metadata": {},
   "outputs": [],
   "source": [
    "def replace_text_with_synonyms(row, vecs):\n",
    "    \"\"\"\n",
    "    Replaces multiple words in the given text with their most similar synonyms using word embeddings.\n",
    "    \"\"\"\n",
    "    text = row['text']\n",
    "    replaced_text = synonym_replacement(text, vecs)\n",
    "    new_row = row.copy()\n",
    "    new_row['text'] = replaced_text\n",
    "    #new_row.loc[new_row == 0] = -1\n",
    "    return new_row\n",
    "\n",
    "df_auf = df_train.apply(replace_text_with_synonyms, axis=1, args=(vecs,))"
   ]
  },
  {
   "cell_type": "code",
   "execution_count": 25,
   "id": "2b9677d2-c3e0-4250-b78f-f51224c415ab",
   "metadata": {},
   "outputs": [
    {
     "name": "stderr",
     "output_type": "stream",
     "text": [
      "/tmp/ipykernel_481/1757478327.py:1: FutureWarning: The frame.append method is deprecated and will be removed from pandas in a future version. Use pandas.concat instead.\n",
      "  df_augmented_1 = df_train.append(aug_df, ignore_index=True)\n"
     ]
    }
   ],
   "source": [
    "df_augmented_1 = df_train.append(df_auf, ignore_index=True)"
   ]
  },
  {
   "cell_type": "markdown",
   "id": "b9cd107b-2745-4c07-8319-25606adc4f05",
   "metadata": {},
   "source": [
    "### Back Translation\n",
    "\n",
    "For translating the entries from German Language into English and back, we utilized the Helsinki NLP models ([de-en](https://huggingface.co/Helsinki-NLP/opus-mt-de-en) and [en-de](https://huggingface.co/Helsinki-NLP/opus-mt-en-de)). These models were not explicitly pre-trained or fine-tuned on sexist related content."
   ]
  },
  {
   "cell_type": "code",
   "execution_count": null,
   "id": "dc8c12cd-b406-4cf1-bcc1-1f0e5d2451f4",
   "metadata": {},
   "outputs": [],
   "source": [
    "to_english = pipeline(\"translation\", model=\"Helsinki-NLP/opus-mt-de-en\")\n",
    "to_german = pipeline(\"translation\", model=\"Helsinki-NLP/opus-mt-en-de\")"
   ]
  },
  {
   "cell_type": "code",
   "execution_count": null,
   "id": "eb5a0da2-b984-4f20-8052-a4b903329da7",
   "metadata": {},
   "outputs": [],
   "source": [
    "def translate_to_english(text):\n",
    "    \"\"\"\n",
    "    Translates text from German to English.\n",
    "    \"\"\"\n",
    "    return to_english(text)[0]['translation_text']\n",
    "\n",
    "def translate_to_german(text):\n",
    "    \"\"\"\n",
    "    Translates text from English to German.\n",
    "    \"\"\"\n",
    "    return to_german(text)[0]['translation_text']\n",
    "\n",
    "def back_translation(text):\n",
    "    \"\"\"\n",
    "    Performs back translation from German to English and back to German.\n",
    "    \"\"\"\n",
    "    english = translate_to_english(text)\n",
    "    german = translate_to_german(english)\n",
    "    return german"
   ]
  },
  {
   "cell_type": "code",
   "execution_count": 29,
   "id": "a5bd9d36-b6ee-4784-9cdb-6c94bbc620d1",
   "metadata": {},
   "outputs": [
    {
     "name": "stderr",
     "output_type": "stream",
     "text": [
      "Your input_length: 511 is bigger than 0.9 * max_length: 512. You might consider increasing your max_length manually, e.g. translator('...', max_length=400)\n"
     ]
    }
   ],
   "source": [
    "df_train['back_translated_text'] = df_train['text'].apply(back_translation)\n",
    "new_rows = df_train[df_train['text'] != df_train['back_translated_text']].copy()\n",
    "new_rows['text'] = new_rows['back_translated_text']\n",
    "new_rows = new_rows.drop(columns=['back_translated_text'])\n",
    "\n",
    "#df_augmented_2 = pd.concat([df, new_rows], ignore_index=True)"
   ]
  },
  {
   "cell_type": "markdown",
   "id": "ade2375f-c8cc-4095-b821-fca853c34158",
   "metadata": {},
   "source": [
    "Merge both augmented df into one incl. the original df"
   ]
  },
  {
   "cell_type": "code",
   "execution_count": 30,
   "id": "b1fd1b5d-a18f-4477-996c-26f41e9ff464",
   "metadata": {},
   "outputs": [],
   "source": [
    "df_augmented = pd.concat([df_augmented_1, new_rows], ignore_index=True)"
   ]
  },
  {
   "cell_type": "code",
   "execution_count": 57,
   "id": "9e87f0ce-b196-4d27-abfb-a2a824cb84a0",
   "metadata": {},
   "outputs": [],
   "source": [
    "#df_augmented.to_csv('df_train_original.csv')"
   ]
  },
  {
   "cell_type": "markdown",
   "id": "99c5db9d-0b2e-4f0f-a26b-81564a24d645",
   "metadata": {},
   "source": [
    "Experimented with downsampling label 0 after first split (for the augmented data entries with 0 label are deleted to improve class balance). Did result in worse performance, hence all data entries were kept (more details in paper)."
   ]
  },
  {
   "cell_type": "code",
   "execution_count": 58,
   "id": "1ec5823c-541c-4dbd-99e8-a91419bf6fbd",
   "metadata": {},
   "outputs": [
    {
     "data": {
      "text/html": [
       "<div>\n",
       "<style scoped>\n",
       "    .dataframe tbody tr th:only-of-type {\n",
       "        vertical-align: middle;\n",
       "    }\n",
       "\n",
       "    .dataframe tbody tr th {\n",
       "        vertical-align: top;\n",
       "    }\n",
       "\n",
       "    .dataframe thead th {\n",
       "        text-align: right;\n",
       "    }\n",
       "</style>\n",
       "<table border=\"1\" class=\"dataframe\">\n",
       "  <thead>\n",
       "    <tr style=\"text-align: right;\">\n",
       "      <th></th>\n",
       "      <th>text</th>\n",
       "      <th>A012</th>\n",
       "      <th>A003</th>\n",
       "      <th>A005</th>\n",
       "      <th>A001</th>\n",
       "      <th>A008</th>\n",
       "      <th>A004</th>\n",
       "      <th>A007</th>\n",
       "      <th>A010</th>\n",
       "      <th>A002</th>\n",
       "      <th>A009</th>\n",
       "    </tr>\n",
       "  </thead>\n",
       "  <tbody>\n",
       "    <tr>\n",
       "      <th>0</th>\n",
       "      <td>Wen man nicht reinläßt, den muss man auch nich...</td>\n",
       "      <td>0</td>\n",
       "      <td>0</td>\n",
       "      <td>0</td>\n",
       "      <td>0</td>\n",
       "      <td>0</td>\n",
       "      <td>0</td>\n",
       "      <td>0</td>\n",
       "      <td>0</td>\n",
       "      <td>0</td>\n",
       "      <td>0</td>\n",
       "    </tr>\n",
       "    <tr>\n",
       "      <th>1</th>\n",
       "      <td>Und eine Katze die schnurrt genügt Ihnen? \\nUn...</td>\n",
       "      <td>1</td>\n",
       "      <td>1</td>\n",
       "      <td>0</td>\n",
       "      <td>0</td>\n",
       "      <td>1</td>\n",
       "      <td>0</td>\n",
       "      <td>1</td>\n",
       "      <td>0</td>\n",
       "      <td>0</td>\n",
       "      <td>0</td>\n",
       "    </tr>\n",
       "    <tr>\n",
       "      <th>2</th>\n",
       "      <td>Des Oaschloch is eh scho berühmt, de virz‘g Ju...</td>\n",
       "      <td>3</td>\n",
       "      <td>3</td>\n",
       "      <td>3</td>\n",
       "      <td>0</td>\n",
       "      <td>4</td>\n",
       "      <td>3</td>\n",
       "      <td>2</td>\n",
       "      <td>4</td>\n",
       "      <td>3</td>\n",
       "      <td>4</td>\n",
       "    </tr>\n",
       "    <tr>\n",
       "      <th>3</th>\n",
       "      <td>Trump hat 2 Dinge übersehen:\\nevery vote count...</td>\n",
       "      <td>3</td>\n",
       "      <td>3</td>\n",
       "      <td>3</td>\n",
       "      <td>0</td>\n",
       "      <td>1</td>\n",
       "      <td>3</td>\n",
       "      <td>3</td>\n",
       "      <td>0</td>\n",
       "      <td>3</td>\n",
       "      <td>2</td>\n",
       "    </tr>\n",
       "    <tr>\n",
       "      <th>4</th>\n",
       "      <td>Mit der Fo×÷e hat er sich keinen Gefallen geta...</td>\n",
       "      <td>2</td>\n",
       "      <td>4</td>\n",
       "      <td>3</td>\n",
       "      <td>4</td>\n",
       "      <td>2</td>\n",
       "      <td>4</td>\n",
       "      <td>4</td>\n",
       "      <td>4</td>\n",
       "      <td>4</td>\n",
       "      <td>3</td>\n",
       "    </tr>\n",
       "    <tr>\n",
       "      <th>...</th>\n",
       "      <td>...</td>\n",
       "      <td>...</td>\n",
       "      <td>...</td>\n",
       "      <td>...</td>\n",
       "      <td>...</td>\n",
       "      <td>...</td>\n",
       "      <td>...</td>\n",
       "      <td>...</td>\n",
       "      <td>...</td>\n",
       "      <td>...</td>\n",
       "      <td>...</td>\n",
       "    </tr>\n",
       "    <tr>\n",
       "      <th>17908</th>\n",
       "      <td>Ich bin nur jeden Tag wirklich überrascht, wen...</td>\n",
       "      <td>-1</td>\n",
       "      <td>-1</td>\n",
       "      <td>-1</td>\n",
       "      <td>-1</td>\n",
       "      <td>-1</td>\n",
       "      <td>-1</td>\n",
       "      <td>-1</td>\n",
       "      <td>3</td>\n",
       "      <td>2</td>\n",
       "      <td>3</td>\n",
       "    </tr>\n",
       "    <tr>\n",
       "      <th>17909</th>\n",
       "      <td>Ein Kameramann bekommt in der Regel Anweisunge...</td>\n",
       "      <td>-1</td>\n",
       "      <td>-1</td>\n",
       "      <td>-1</td>\n",
       "      <td>-1</td>\n",
       "      <td>-1</td>\n",
       "      <td>-1</td>\n",
       "      <td>-1</td>\n",
       "      <td>-1</td>\n",
       "      <td>-1</td>\n",
       "      <td>-1</td>\n",
       "    </tr>\n",
       "    <tr>\n",
       "      <th>17910</th>\n",
       "      <td>Aber warum stimmen 36 % der Frauen in Österrei...</td>\n",
       "      <td>-1</td>\n",
       "      <td>-1</td>\n",
       "      <td>-1</td>\n",
       "      <td>-1</td>\n",
       "      <td>-1</td>\n",
       "      <td>-1</td>\n",
       "      <td>-1</td>\n",
       "      <td>-1</td>\n",
       "      <td>-1</td>\n",
       "      <td>-1</td>\n",
       "    </tr>\n",
       "    <tr>\n",
       "      <th>17911</th>\n",
       "      <td>Ich denke, es ist schwer, sich die Realitäten ...</td>\n",
       "      <td>1</td>\n",
       "      <td>-1</td>\n",
       "      <td>-1</td>\n",
       "      <td>-1</td>\n",
       "      <td>-1</td>\n",
       "      <td>-1</td>\n",
       "      <td>-1</td>\n",
       "      <td>-1</td>\n",
       "      <td>-1</td>\n",
       "      <td>1</td>\n",
       "    </tr>\n",
       "    <tr>\n",
       "      <th>17912</th>\n",
       "      <td>Eignung ist und bleibt eine Verantwortung des ...</td>\n",
       "      <td>-1</td>\n",
       "      <td>-1</td>\n",
       "      <td>-1</td>\n",
       "      <td>-1</td>\n",
       "      <td>-1</td>\n",
       "      <td>-1</td>\n",
       "      <td>-1</td>\n",
       "      <td>-1</td>\n",
       "      <td>2</td>\n",
       "      <td>-1</td>\n",
       "    </tr>\n",
       "  </tbody>\n",
       "</table>\n",
       "<p>17913 rows × 11 columns</p>\n",
       "</div>"
      ],
      "text/plain": [
       "                                                    text  A012  A003  A005  \\\n",
       "0      Wen man nicht reinläßt, den muss man auch nich...     0     0     0   \n",
       "1      Und eine Katze die schnurrt genügt Ihnen? \\nUn...     1     1     0   \n",
       "2      Des Oaschloch is eh scho berühmt, de virz‘g Ju...     3     3     3   \n",
       "3      Trump hat 2 Dinge übersehen:\\nevery vote count...     3     3     3   \n",
       "4      Mit der Fo×÷e hat er sich keinen Gefallen geta...     2     4     3   \n",
       "...                                                  ...   ...   ...   ...   \n",
       "17908  Ich bin nur jeden Tag wirklich überrascht, wen...    -1    -1    -1   \n",
       "17909  Ein Kameramann bekommt in der Regel Anweisunge...    -1    -1    -1   \n",
       "17910  Aber warum stimmen 36 % der Frauen in Österrei...    -1    -1    -1   \n",
       "17911  Ich denke, es ist schwer, sich die Realitäten ...     1    -1    -1   \n",
       "17912  Eignung ist und bleibt eine Verantwortung des ...    -1    -1    -1   \n",
       "\n",
       "       A001  A008  A004  A007  A010  A002  A009  \n",
       "0         0     0     0     0     0     0     0  \n",
       "1         0     1     0     1     0     0     0  \n",
       "2         0     4     3     2     4     3     4  \n",
       "3         0     1     3     3     0     3     2  \n",
       "4         4     2     4     4     4     4     3  \n",
       "...     ...   ...   ...   ...   ...   ...   ...  \n",
       "17908    -1    -1    -1    -1     3     2     3  \n",
       "17909    -1    -1    -1    -1    -1    -1    -1  \n",
       "17910    -1    -1    -1    -1    -1    -1    -1  \n",
       "17911    -1    -1    -1    -1    -1    -1     1  \n",
       "17912    -1    -1    -1    -1    -1     2    -1  \n",
       "\n",
       "[17913 rows x 11 columns]"
      ]
     },
     "execution_count": 58,
     "metadata": {},
     "output_type": "execute_result"
    }
   ],
   "source": [
    "df_augmented.loc[11995:, annotator_columns] = df_augmented.loc[11995:, ANNOTATOR_COLUMNS].replace(0, -1)\n",
    "df_augmented"
   ]
  },
  {
   "cell_type": "code",
   "execution_count": 59,
   "id": "e8af86dc-55e1-40d8-90d3-689c4c4f5e39",
   "metadata": {},
   "outputs": [],
   "source": [
    "# delete rows with only -1 entries\n",
    "df_augmented = df_augmented.loc[~(df_augmented[annotator_columns].eq(-1).all(axis=1))]"
   ]
  },
  {
   "cell_type": "code",
   "execution_count": 61,
   "id": "438579e6-45a5-42bb-8a2a-c673586d721d",
   "metadata": {},
   "outputs": [],
   "source": [
    "#df_augmented.to_csv('df_train_0_after_2.csv')"
   ]
  }
 ],
 "metadata": {
  "kernelspec": {
   "display_name": "Python 3 (ipykernel)",
   "language": "python",
   "name": "python3"
  },
  "language_info": {
   "codemirror_mode": {
    "name": "ipython",
    "version": 3
   },
   "file_extension": ".py",
   "mimetype": "text/x-python",
   "name": "python",
   "nbconvert_exporter": "python",
   "pygments_lexer": "ipython3",
   "version": "3.9.13"
  }
 },
 "nbformat": 4,
 "nbformat_minor": 5
}
